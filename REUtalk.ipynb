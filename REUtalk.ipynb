{
 "cells": [
  {
   "cell_type": "markdown",
   "metadata": {},
   "source": [
    "# Julia: A Tool for Computational and Experimental Mathematics?\n",
    "## Talk for 2020 REU: Research Challenges of Computational and Experimental Mathematics\n",
    "\n",
    "### Jason M. Graham\n",
    "### University of Scranton, Department of Mathematics \n",
    "\n",
    "#### [GitHub Repo](https://github.com/jmgraham30/JuliaCompExpMath)"
   ]
  },
  {
   "cell_type": "markdown",
   "metadata": {},
   "source": [
    "![ ](juliaLogo.png)"
   ]
  },
  {
   "cell_type": "markdown",
   "metadata": {},
   "source": [
    "### [The Julia Langauge](https://julialang.org/)\n",
    "\n",
    "1. Free and open source\n",
    "2. Will run on most platforms\n",
    "3. Dynamically typed\n",
    "4. **Fast**"
   ]
  },
  {
   "cell_type": "markdown",
   "metadata": {},
   "source": [
    "For an excellent introduction to Julia programming try the Introduction to Julia tutorial at [The Julia Academy](https://juliaacademy.com/). "
   ]
  },
  {
   "cell_type": "code",
   "execution_count": null,
   "metadata": {},
   "outputs": [],
   "source": []
  }
 ],
 "metadata": {
  "kernelspec": {
   "display_name": "Julia 1.3.1",
   "language": "julia",
   "name": "julia-1.3"
  },
  "language_info": {
   "file_extension": ".jl",
   "mimetype": "application/julia",
   "name": "julia",
   "version": "1.3.1"
  }
 },
 "nbformat": 4,
 "nbformat_minor": 2
}
