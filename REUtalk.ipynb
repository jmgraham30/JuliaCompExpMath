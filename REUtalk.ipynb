{
 "cells": [
  {
   "cell_type": "markdown",
   "metadata": {},
   "source": [
    "# Julia: A Tool for Computational and Experimental Mathematics?\n",
    "## Talk for 2020 REU: [Research Challenges of Computational and Experimental Mathematics](https://www.moravian.edu/mathematics/reu)\n",
    "\n",
    "### [Jason M. Graham](https://sites.google.com/site/jasonmgrahamus/)\n",
    "### [University of Scranton](https://www.scranton.edu/), [Department of Mathematics](https://www.scranton.edu/academics/cas/math/) \n",
    "\n",
    "#### [GitHub Repo](https://github.com/jmgraham30/JuliaCompExpMath)"
   ]
  },
  {
   "cell_type": "markdown",
   "metadata": {},
   "source": [
    "## About Me\n",
    "\n",
    "- Undergraduate degree in Mathematics \n",
    "- Masters degree in Computational and Applied Mathematics\n",
    "- PhD in [Applied Mathematical and Computational Sciences](https://www.amcs.uiowa.edu/)\n",
    "- Associate Professor in Mathematics \n",
    "- Research interests in mathematical, computational, and statistical modeling in biological systems \n",
    "- Mentor [MBI](https://mbi.osu.edu/) REU students at the [Swarm Lab at NJIT](https://www.theswarmlab.com/)"
   ]
  },
  {
   "cell_type": "markdown",
   "metadata": {},
   "source": [
    "## Plan for the Talk\n",
    "- Introduce Julia language and ecosystem as a potential tool for research in computational and experimental mathematics\n",
    "   - To get started with Julia we recommend the [Julia Academy](https://juliaacademy.com/courses) Introduction to Julia course. Note that the downloadable notebooks are more up to date than the video lectures.  \n",
    "   - Specifically, we will introduce [AbstractAlgebra.jl](https://nemocas.github.io/AbstractAlgebra.jl/latest/index.html), [BasicNT.jl](https://github.com/jmgraham30/BasicNT.jl), [DifferentialEquations.jl](https://docs.sciml.ai/stable/), [Distributions.jl](https://juliastats.org/Distributions.jl/stable/), and possibly others if time permits.  \n",
    "\n",
    "- Time permitting we will also introduce some associated tools for interoperability and sharing research results. For example,\n",
    "  - [Conda.jl](https://github.com/JuliaPy/Conda.jl), [PyCall.jl](https://github.com/JuliaPy/PyCall.jl)\n",
    "  - [IJulia.jl](https://github.com/JuliaLang/IJulia.jl), [Weave.jl](http://weavejl.mpastell.com/stable/)\n",
    "\n",
    "- There is a lot of additional resources related to this talk posted on my GitHub, see in particular [JuliaCompExpMath](https://github.com/jmgraham30/JuliaCompExpMath) and [BasicNT.jl](https://github.com/jmgraham30/BasicNT.jl). "
   ]
  },
  {
   "cell_type": "markdown",
   "metadata": {},
   "source": [
    "![ ](juliaLogo.png)"
   ]
  },
  {
   "cell_type": "markdown",
   "metadata": {},
   "source": [
    "## What is the deal with [Julia](https://julialang.org/)?\n",
    "\n",
    "1. Free, open source, and will run on most any platform. \n",
    "  - This means that almost anything you do using Julia is portable, say for example to [AWS](https://aws.amazon.com/) for large scale computing.  \n",
    "2. Dynamically typed and easy to program. \n",
    "  - Similar to Python or MATLAB\n",
    "3. **Fast** (the second time)\n",
    "  - Comparable with C. It's okay to write loops!\n",
    "4. Great interoperability (*e.g.*, with [Python](https://github.com/JuliaPy))\n",
    "\n",
    "For an excellent Julia tutorials check out [The Julia Academy](https://juliaacademy.com/courses). \n",
    "\n",
    "Some other interesting resources are [Statistics with Julia](https://github.com/h-Klok/StatsWithJuliaBook) and [Algorithms for Optimization](https://mitpress.mit.edu/books/algorithms-optimization). "
   ]
  },
  {
   "cell_type": "code",
   "execution_count": null,
   "metadata": {},
   "outputs": [],
   "source": []
  }
 ],
 "metadata": {
  "kernelspec": {
   "display_name": "Julia 1.3.1",
   "language": "julia",
   "name": "julia-1.3"
  },
  "language_info": {
   "file_extension": ".jl",
   "mimetype": "application/julia",
   "name": "julia",
   "version": "1.3.1"
  }
 },
 "nbformat": 4,
 "nbformat_minor": 2
}
