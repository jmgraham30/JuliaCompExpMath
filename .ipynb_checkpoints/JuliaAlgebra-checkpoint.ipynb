{
 "cells": [
  {
   "cell_type": "markdown",
   "metadata": {},
   "source": [
    "# Algebra in Julia\n",
    "\n",
    "In this notebook we demonstrate working with some simple algebraic structures in Julia with [AbstractAlgebra.jl](https://nemocas.github.io/AbstractAlgebra.jl/latest/). We begin by loading the AbstractAlgebra.jl package. (You will need to make sure that this package is installed before running the next command.)"
   ]
  },
  {
   "cell_type": "code",
   "execution_count": 1,
   "metadata": {},
   "outputs": [],
   "source": [
    "using AbstractAlgebra"
   ]
  },
  {
   "cell_type": "markdown",
   "metadata": {},
   "source": [
    "## Permutation Groups"
   ]
  },
  {
   "cell_type": "markdown",
   "metadata": {},
   "source": [
    "AbstractAlgebra.jl allows for the creation and manipulation of permutation groups. Elements may be displayed either as arrays or in cycle notation.  "
   ]
  },
  {
   "cell_type": "code",
   "execution_count": 2,
   "metadata": {},
   "outputs": [
    {
     "data": {
      "text/plain": [
       ":cycles"
      ]
     },
     "execution_count": 2,
     "metadata": {},
     "output_type": "execute_result"
    }
   ],
   "source": [
    "setpermstyle(:cycles) # sets display to show permutations as cycles"
   ]
  },
  {
   "cell_type": "markdown",
   "metadata": {},
   "source": [
    "Let's create the following permutation on the set $\\{1,2,3,4,5\\}$ that sends\n",
    "\n",
    "$1 \\rightarrow 2$\n",
    "\n",
    "$2 \\rightarrow 3$\n",
    "\n",
    "$3 \\rightarrow 1$\n",
    "\n",
    "$4 \\rightarrow 5$\n",
    "\n",
    "$5 \\rightarrow 4$"
   ]
  },
  {
   "cell_type": "code",
   "execution_count": 4,
   "metadata": {},
   "outputs": [
    {
     "data": {
      "text/plain": [
       "(1,2,3)(4,5)"
      ]
     },
     "execution_count": 4,
     "metadata": {},
     "output_type": "execute_result"
    }
   ],
   "source": [
    "g = Perm([2,3,1,5,4])"
   ]
  },
  {
   "cell_type": "markdown",
   "metadata": {},
   "source": [
    "Another way to accomplish the same this is as follows:"
   ]
  },
  {
   "cell_type": "code",
   "execution_count": 5,
   "metadata": {},
   "outputs": [
    {
     "data": {
      "text/plain": [
       "(1,2,3)(4,5)"
      ]
     },
     "execution_count": 5,
     "metadata": {},
     "output_type": "execute_result"
    }
   ],
   "source": [
    "g = perm\"(1,2,3)(5,4)\""
   ]
  },
  {
   "cell_type": "markdown",
   "metadata": {},
   "source": [
    "Let's change the settings to display permutations as an array. "
   ]
  },
  {
   "cell_type": "code",
   "execution_count": 6,
   "metadata": {},
   "outputs": [
    {
     "data": {
      "text/plain": [
       ":array"
      ]
     },
     "execution_count": 6,
     "metadata": {},
     "output_type": "execute_result"
    }
   ],
   "source": [
    "setpermstyle(:array)"
   ]
  },
  {
   "cell_type": "code",
   "execution_count": 7,
   "metadata": {},
   "outputs": [
    {
     "data": {
      "text/plain": [
       "[5, 1, 3, 4, 2]"
      ]
     },
     "execution_count": 7,
     "metadata": {},
     "output_type": "execute_result"
    }
   ],
   "source": [
    "h = Perm([5,1,3,4,2]) # create another permutation"
   ]
  },
  {
   "cell_type": "markdown",
   "metadata": {},
   "source": [
    "Permutation group elements are multplilied (or composed) using the usual multiplication operation in Julia. "
   ]
  },
  {
   "cell_type": "code",
   "execution_count": 8,
   "metadata": {},
   "outputs": [
    {
     "data": {
      "text/plain": [
       "[1, 3, 5, 2, 4]"
      ]
     },
     "execution_count": 8,
     "metadata": {},
     "output_type": "execute_result"
    }
   ],
   "source": [
    "g*h"
   ]
  },
  {
   "cell_type": "code",
   "execution_count": 10,
   "metadata": {},
   "outputs": [
    {
     "data": {
      "text/plain": [
       "[2, 5, 3, 4, 1]"
      ]
     },
     "execution_count": 10,
     "metadata": {},
     "output_type": "execute_result"
    }
   ],
   "source": [
    "h*h"
   ]
  },
  {
   "cell_type": "markdown",
   "metadata": {},
   "source": [
    "Note that we can also compute the last product with"
   ]
  },
  {
   "cell_type": "code",
   "execution_count": 11,
   "metadata": {},
   "outputs": [
    {
     "data": {
      "text/plain": [
       "[2, 5, 3, 4, 1]"
      ]
     },
     "execution_count": 11,
     "metadata": {},
     "output_type": "execute_result"
    }
   ],
   "source": [
    "h^2"
   ]
  },
  {
   "cell_type": "markdown",
   "metadata": {},
   "source": [
    "We can compute the sign of a permutation. "
   ]
  },
  {
   "cell_type": "code",
   "execution_count": 12,
   "metadata": {},
   "outputs": [
    {
     "name": "stdout",
     "output_type": "stream",
     "text": [
      "1\n",
      "-1\n",
      "1\n"
     ]
    }
   ],
   "source": [
    "println(sign(h))\n",
    "\n",
    "println(sign(g))\n",
    "\n",
    "println(sign(g^2))"
   ]
  },
  {
   "cell_type": "markdown",
   "metadata": {},
   "source": [
    "We can also find the inverse for a group element. "
   ]
  },
  {
   "cell_type": "code",
   "execution_count": 13,
   "metadata": {},
   "outputs": [
    {
     "name": "stdout",
     "output_type": "stream",
     "text": [
      "[3, 1, 2, 5, 4]\n",
      "[1, 2, 3, 4, 5]\n"
     ]
    }
   ],
   "source": [
    "println(inv(g))\n",
    "println(inv(g)*g)"
   ]
  },
  {
   "cell_type": "markdown",
   "metadata": {},
   "source": [
    "## Rings in Julia\n",
    "Things become more interesting when we look at rings in Julia. Say for example that we want to look at polynomials over the ring of integers. "
   ]
  },
  {
   "cell_type": "code",
   "execution_count": 14,
   "metadata": {},
   "outputs": [
    {
     "data": {
      "text/plain": [
       "(Univariate Polynomial Ring in x over Integers, x)"
      ]
     },
     "execution_count": 14,
     "metadata": {},
     "output_type": "execute_result"
    }
   ],
   "source": [
    "R, x = PolynomialRing(ZZ,\"x\") # creates the indeterminate variable x "
   ]
  },
  {
   "cell_type": "markdown",
   "metadata": {},
   "source": [
    "Now let's use this to create some polynomials in x over $\\mathbb{Z}$. "
   ]
  },
  {
   "cell_type": "code",
   "execution_count": 15,
   "metadata": {},
   "outputs": [
    {
     "name": "stdout",
     "output_type": "stream",
     "text": [
      "2*x^3-3*x^2+10*x-6\n",
      "x-1\n"
     ]
    }
   ],
   "source": [
    "f = 2x^3-3x^2+10x-6\n",
    "g = x - 1\n",
    "println(f)\n",
    "println(g)"
   ]
  },
  {
   "cell_type": "markdown",
   "metadata": {},
   "source": [
    "Observe that an element of $\\mathbb{Z}[x]$ is a specific type in Julia. "
   ]
  },
  {
   "cell_type": "code",
   "execution_count": 16,
   "metadata": {},
   "outputs": [
    {
     "data": {
      "text/plain": [
       "AbstractAlgebra.Generic.Poly{BigInt}"
      ]
     },
     "execution_count": 16,
     "metadata": {},
     "output_type": "execute_result"
    }
   ],
   "source": [
    "typeof(f)"
   ]
  },
  {
   "cell_type": "markdown",
   "metadata": {},
   "source": [
    "Let's multiply the polynomials $f = 2x^3-3x^2+10x-6$ and $g = x - 1$. "
   ]
  },
  {
   "cell_type": "code",
   "execution_count": 17,
   "metadata": {},
   "outputs": [
    {
     "name": "stdout",
     "output_type": "stream",
     "text": [
      "2*x^4-5*x^3+13*x^2-16*x+6\n"
     ]
    }
   ],
   "source": [
    "println(f*g)"
   ]
  },
  {
   "cell_type": "markdown",
   "metadata": {},
   "source": [
    "Next, we demonsrate an alternative method for creating an element of $\\mathbb{Z}[x]$. "
   ]
  },
  {
   "cell_type": "code",
   "execution_count": 18,
   "metadata": {},
   "outputs": [
    {
     "data": {
      "text/plain": [
       "2*x^3+4*x^2-3*x+1"
      ]
     },
     "execution_count": 18,
     "metadata": {},
     "output_type": "execute_result"
    }
   ],
   "source": [
    "h = R([1,-3,4,2])"
   ]
  },
  {
   "cell_type": "markdown",
   "metadata": {},
   "source": [
    "The coeff function allows us to obtain the specific coefficients of a polynomial. "
   ]
  },
  {
   "cell_type": "code",
   "execution_count": 19,
   "metadata": {},
   "outputs": [
    {
     "data": {
      "text/plain": [
       "4"
      ]
     },
     "execution_count": 19,
     "metadata": {},
     "output_type": "execute_result"
    }
   ],
   "source": [
    "coeff(h,2)"
   ]
  },
  {
   "cell_type": "markdown",
   "metadata": {},
   "source": [
    "There is a method to test if one polynomial is a divisor of another. "
   ]
  },
  {
   "cell_type": "code",
   "execution_count": 20,
   "metadata": {},
   "outputs": [
    {
     "data": {
      "text/plain": [
       "(false, 2*x^2-x+9)"
      ]
     },
     "execution_count": 20,
     "metadata": {},
     "output_type": "execute_result"
    }
   ],
   "source": [
    "divides(f,g)"
   ]
  },
  {
   "cell_type": "code",
   "execution_count": 21,
   "metadata": {},
   "outputs": [
    {
     "data": {
      "text/plain": [
       "(true, 2*x^2-11*x-6)"
      ]
     },
     "execution_count": 21,
     "metadata": {},
     "output_type": "execute_result"
    }
   ],
   "source": [
    "p = (x-1)*(2x+1)*(x-6)\n",
    "divides(p,x-1)"
   ]
  },
  {
   "cell_type": "markdown",
   "metadata": {},
   "source": [
    "Note that when we have a divisor the quotient is returned. "
   ]
  },
  {
   "cell_type": "code",
   "execution_count": 23,
   "metadata": {},
   "outputs": [
    {
     "data": {
      "text/plain": [
       "2*x^3-13*x^2+5*x+6"
      ]
     },
     "execution_count": 23,
     "metadata": {},
     "output_type": "execute_result"
    }
   ],
   "source": [
    "q = divides(p,x-1)\n",
    "(x-1)*q[2]"
   ]
  },
  {
   "cell_type": "markdown",
   "metadata": {},
   "source": [
    "Compare the previous output with the expanded version of $p = (x-1)(2x+1)(x-6)$."
   ]
  },
  {
   "cell_type": "code",
   "execution_count": 25,
   "metadata": {},
   "outputs": [
    {
     "name": "stdout",
     "output_type": "stream",
     "text": [
      "2*x^3-13*x^2+5*x+6\n"
     ]
    }
   ],
   "source": [
    "println(p)"
   ]
  },
  {
   "cell_type": "markdown",
   "metadata": {},
   "source": [
    "As an application of polynomial rings, let's write code that store the first 100 Fibonacci polynomials defined by \n",
    "\n",
    "$F_{1}(x)=1$, \n",
    "\n",
    "$F_{2}(x)=x$, and \n",
    "\n",
    "$F_{n}(x)=xF_{n-1}(x)+F_{n-2}(x)$ for $n \\geq 3$. "
   ]
  },
  {
   "cell_type": "code",
   "execution_count": 26,
   "metadata": {},
   "outputs": [],
   "source": [
    "MA = Array{Any,1}(0:100);\n",
    "MA[1] = 1;\n",
    "MA[2] = x;\n",
    "for i = 1:99\n",
    "    MA[i+2] = x*MA[i+1]+MA[i];\n",
    "end"
   ]
  },
  {
   "cell_type": "code",
   "execution_count": 29,
   "metadata": {},
   "outputs": [
    {
     "name": "stdout",
     "output_type": "stream",
     "text": [
      "1\n",
      "x\n",
      "x^2+1\n",
      "x^3+2*x\n"
     ]
    }
   ],
   "source": [
    "println(MA[1])\n",
    "println(MA[2])\n",
    "println(MA[3])\n",
    "println(MA[4])"
   ]
  },
  {
   "cell_type": "code",
   "execution_count": 31,
   "metadata": {},
   "outputs": [
    {
     "name": "stdout",
     "output_type": "stream",
     "text": [
      "x^24+23*x^22+231*x^20+1330*x^18+4845*x^16+11628*x^14+18564*x^12+19448*x^10+12870*x^8+5005*x^6+1001*x^4+78*x^2+1\n",
      "x^25+24*x^23+253*x^21+1540*x^19+5985*x^17+15504*x^15+27132*x^13+31824*x^11+24310*x^9+11440*x^7+3003*x^5+364*x^3+13*x\n",
      "x^26+25*x^24+276*x^22+1771*x^20+7315*x^18+20349*x^16+38760*x^14+50388*x^12+43758*x^10+24310*x^8+8008*x^6+1365*x^4+91*x^2+1\n",
      "x^26+25*x^24+276*x^22+1771*x^20+7315*x^18+20349*x^16+38760*x^14+50388*x^12+43758*x^10+24310*x^8+8008*x^6+1365*x^4+91*x^2+1\n"
     ]
    }
   ],
   "source": [
    "println(MA[25])\n",
    "println(MA[26])\n",
    "println(MA[27])\n",
    "println(x*MA[26] + MA[25])"
   ]
  },
  {
   "cell_type": "markdown",
   "metadata": {},
   "source": [
    "Let's print off the coefficients for the 25-th Fibonacci polynomial."
   ]
  },
  {
   "cell_type": "code",
   "execution_count": 32,
   "metadata": {},
   "outputs": [
    {
     "data": {
      "text/plain": [
       "26-element Array{BigInt,1}:\n",
       "     1\n",
       "     0\n",
       "    78\n",
       "     0\n",
       "  1001\n",
       "     0\n",
       "  5005\n",
       "     0\n",
       " 12870\n",
       "     0\n",
       " 19448\n",
       "     0\n",
       " 18564\n",
       "     0\n",
       " 11628\n",
       "     0\n",
       "  4845\n",
       "     0\n",
       "  1330\n",
       "     0\n",
       "   231\n",
       "     0\n",
       "    23\n",
       "     0\n",
       "     1\n",
       "     0"
      ]
     },
     "execution_count": 32,
     "metadata": {},
     "output_type": "execute_result"
    }
   ],
   "source": [
    "get_coeffs(x) = coeff(MA[25],x)\n",
    "coeff_array = [get_coeffs(x) for x in 0:25]"
   ]
  },
  {
   "cell_type": "markdown",
   "metadata": {},
   "source": [
    "Now you may perhaps be able to use what we have been looking at in order to experiment with these polynomials. "
   ]
  }
 ],
 "metadata": {
  "kernelspec": {
   "display_name": "Julia 1.4.2",
   "language": "julia",
   "name": "julia-1.4"
  },
  "language_info": {
   "file_extension": ".jl",
   "mimetype": "application/julia",
   "name": "julia",
   "version": "1.4.2"
  }
 },
 "nbformat": 4,
 "nbformat_minor": 4
}
