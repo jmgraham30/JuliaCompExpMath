{
 "cells": [
  {
   "cell_type": "markdown",
   "metadata": {},
   "source": [
    "Try out some Julia"
   ]
  },
  {
   "cell_type": "code",
   "execution_count": 12,
   "metadata": {},
   "outputs": [
    {
     "data": {
      "text/plain": [
       "modMult (generic function with 2 methods)"
      ]
     },
     "execution_count": 12,
     "metadata": {},
     "output_type": "execute_result"
    }
   ],
   "source": [
    "function modAdd(x::Int64,y::Int64,n::Int64=2)\n",
    "    return mod(x+y,n)\n",
    "end\n",
    "\n",
    "function modMult(x::Int64,y::Int64,n::Int64=2)\n",
    "    return mod(x*y,n)\n",
    "end"
   ]
  },
  {
   "cell_type": "markdown",
   "metadata": {},
   "source": [
    "Addition and Multiplication Tables mod n"
   ]
  },
  {
   "cell_type": "code",
   "execution_count": 23,
   "metadata": {},
   "outputs": [
    {
     "data": {
      "text/plain": [
       "7"
      ]
     },
     "execution_count": 23,
     "metadata": {},
     "output_type": "execute_result"
    }
   ],
   "source": [
    "n_val = Int64(7)"
   ]
  },
  {
   "cell_type": "code",
   "execution_count": 24,
   "metadata": {},
   "outputs": [
    {
     "data": {
      "text/plain": [
       "7×7 Array{Int64,2}:\n",
       " 0  1  2  3  4  5  6\n",
       " 1  2  3  4  5  6  0\n",
       " 2  3  4  5  6  0  1\n",
       " 3  4  5  6  0  1  2\n",
       " 4  5  6  0  1  2  3\n",
       " 5  6  0  1  2  3  4\n",
       " 6  0  1  2  3  4  5"
      ]
     },
     "execution_count": 24,
     "metadata": {},
     "output_type": "execute_result"
    }
   ],
   "source": [
    "add = [modAdd(x,y,n_val) for x in 0:n_val-1 for y in 0:n_val-1];\n",
    "reshape(add,n_val,n_val)"
   ]
  },
  {
   "cell_type": "code",
   "execution_count": 25,
   "metadata": {},
   "outputs": [
    {
     "data": {
      "text/plain": [
       "7×7 Array{Int64,2}:\n",
       " 0  0  0  0  0  0  0\n",
       " 0  1  2  3  4  5  6\n",
       " 0  2  4  6  1  3  5\n",
       " 0  3  6  2  5  1  4\n",
       " 0  4  1  5  2  6  3\n",
       " 0  5  3  1  6  4  2\n",
       " 0  6  5  4  3  2  1"
      ]
     },
     "execution_count": 25,
     "metadata": {},
     "output_type": "execute_result"
    }
   ],
   "source": [
    "mult = [modMult(x,y,n_val) for x in 0:n_val-1 for y in 0:n_val-1];\n",
    "reshape(mult,n_val,n_val)"
   ]
  },
  {
   "cell_type": "code",
   "execution_count": null,
   "metadata": {},
   "outputs": [],
   "source": []
  }
 ],
 "metadata": {
  "kernelspec": {
   "display_name": "Julia 1.3.1",
   "language": "julia",
   "name": "julia-1.3"
  },
  "language_info": {
   "file_extension": ".jl",
   "mimetype": "application/julia",
   "name": "julia",
   "version": "1.3.1"
  }
 },
 "nbformat": 4,
 "nbformat_minor": 4
}
