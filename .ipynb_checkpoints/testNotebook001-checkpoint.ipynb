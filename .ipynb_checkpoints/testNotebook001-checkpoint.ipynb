{
 "cells": [
  {
   "cell_type": "markdown",
   "metadata": {},
   "source": [
    "Try out some Julia"
   ]
  },
  {
   "cell_type": "code",
   "execution_count": 1,
   "metadata": {},
   "outputs": [
    {
     "data": {
      "text/plain": [
       "modMult (generic function with 1 method)"
      ]
     },
     "execution_count": 1,
     "metadata": {},
     "output_type": "execute_result"
    }
   ],
   "source": [
    "function modAdd(x::Int,y::Int;n::Int=2)\n",
    "    return mod(x+y,n)\n",
    "end\n",
    "\n",
    "function modMult(x::Int,y::Int;n::Int=2)\n",
    "    return mod(x*y,n)\n",
    "end"
   ]
  },
  {
   "cell_type": "markdown",
   "metadata": {},
   "source": [
    "Addition and Multiplication Tables mod n"
   ]
  },
  {
   "cell_type": "code",
   "execution_count": 2,
   "metadata": {},
   "outputs": [],
   "source": [
    "n_val = Int(337);"
   ]
  },
  {
   "cell_type": "code",
   "execution_count": 3,
   "metadata": {},
   "outputs": [],
   "source": [
    "add = [modAdd(x,y,n=n_val) for x in 0:n_val-1 for y in 0:n_val-1];\n",
    "add_table = reshape(add,n_val,n_val);"
   ]
  },
  {
   "cell_type": "code",
   "execution_count": 4,
   "metadata": {},
   "outputs": [],
   "source": [
    "mult = [modMult(x,y,n=n_val) for x in 0:n_val-1 for y in 0:n_val-1];\n",
    "mult_table = reshape(mult,n_val,n_val);"
   ]
  },
  {
   "cell_type": "code",
   "execution_count": 5,
   "metadata": {},
   "outputs": [],
   "source": [
    "A = mult_table[2:end,2:end];"
   ]
  },
  {
   "cell_type": "code",
   "execution_count": 6,
   "metadata": {},
   "outputs": [
    {
     "name": "stdout",
     "output_type": "stream",
     "text": [
      "Yes\n"
     ]
    }
   ],
   "source": [
    "N = size(A)[1];\n",
    "k = 0;\n",
    "for i=1:N\n",
    "    for j=1:N\n",
    "        if A[i,j] == 1\n",
    "            k = k+1\n",
    "        end\n",
    "    end\n",
    "end\n",
    "\n",
    "if mod(k,n_val) == n_val-1\n",
    "    println(\"Yes\")\n",
    "else\n",
    "    println(\"No\")\n",
    "end"
   ]
  },
  {
   "cell_type": "code",
   "execution_count": 7,
   "metadata": {},
   "outputs": [
    {
     "data": {
      "text/plain": [
       "isField (generic function with 2 methods)"
      ]
     },
     "execution_count": 7,
     "metadata": {},
     "output_type": "execute_result"
    }
   ],
   "source": [
    "function isField(n_val::Int=2)\n",
    "    mult = [modMult(x,y,n=n_val) for x in 0:n_val-1 for y in 0:n_val-1];\n",
    "    k = 0;\n",
    "    for i in mult\n",
    "        if i == 1\n",
    "            k += 1;\n",
    "        end\n",
    "    end\n",
    "    if mod(k,n_val) == n_val-1\n",
    "        true\n",
    "    else\n",
    "        false\n",
    "    end\n",
    "end"
   ]
  },
  {
   "cell_type": "code",
   "execution_count": 8,
   "metadata": {},
   "outputs": [],
   "source": [
    "result = isField(7537);"
   ]
  },
  {
   "cell_type": "code",
   "execution_count": 9,
   "metadata": {},
   "outputs": [
    {
     "data": {
      "text/plain": [
       "true"
      ]
     },
     "execution_count": 9,
     "metadata": {},
     "output_type": "execute_result"
    }
   ],
   "source": [
    "result"
   ]
  },
  {
   "cell_type": "code",
   "execution_count": 10,
   "metadata": {},
   "outputs": [],
   "source": [
    "using AbstractAlgebra"
   ]
  },
  {
   "cell_type": "code",
   "execution_count": 11,
   "metadata": {},
   "outputs": [],
   "source": [
    "S, x = PolynomialRing(ZZ,\"x\");"
   ]
  },
  {
   "cell_type": "code",
   "execution_count": 12,
   "metadata": {},
   "outputs": [],
   "source": [
    "F0 = 1; F1 = x;"
   ]
  },
  {
   "cell_type": "code",
   "execution_count": 13,
   "metadata": {},
   "outputs": [],
   "source": [
    "MA = Array{Any,1}(0:100);"
   ]
  },
  {
   "cell_type": "code",
   "execution_count": 14,
   "metadata": {},
   "outputs": [],
   "source": [
    "for i = 1:99\n",
    "    MA[i+2] = x*MA[i+1]+MA[i];\n",
    "end"
   ]
  },
  {
   "cell_type": "code",
   "execution_count": 15,
   "metadata": {},
   "outputs": [
    {
     "data": {
      "text/plain": [
       "x^23+22*x^21+210*x^19+1140*x^17+3876*x^15+8568*x^13+12376*x^11+11440*x^9+6435*x^7+2002*x^5+286*x^3+12*x"
      ]
     },
     "execution_count": 15,
     "metadata": {},
     "output_type": "execute_result"
    }
   ],
   "source": [
    "MA[25]"
   ]
  },
  {
   "cell_type": "code",
   "execution_count": 16,
   "metadata": {},
   "outputs": [
    {
     "data": {
      "text/plain": [
       "x^50+49*x^48+1128*x^46+16215*x^44+163185*x^42+1221759*x^40+7059052*x^38+32224114*x^36+118030185*x^34+350343565*x^32+847660528*x^30+1676056044*x^28+2707475148*x^26+3562467300*x^24+3796297200*x^22+3247943160*x^20+2203961430*x^18+1166803110*x^16+471435600*x^14+141120525*x^12+30045015*x^10+4292145*x^8+376740*x^6+17550*x^4+325*x^2+1"
      ]
     },
     "execution_count": 16,
     "metadata": {},
     "output_type": "execute_result"
    }
   ],
   "source": [
    "MA[52]"
   ]
  },
  {
   "cell_type": "code",
   "execution_count": 17,
   "metadata": {},
   "outputs": [
    {
     "data": {
      "text/plain": [
       "get_coeffs (generic function with 1 method)"
      ]
     },
     "execution_count": 17,
     "metadata": {},
     "output_type": "execute_result"
    }
   ],
   "source": [
    "get_coeffs(x) = coeff(MA[52],x)"
   ]
  },
  {
   "cell_type": "code",
   "execution_count": 18,
   "metadata": {},
   "outputs": [],
   "source": [
    "coeff_array = [get_coeffs(x) for x in 0:25];"
   ]
  },
  {
   "cell_type": "code",
   "execution_count": 19,
   "metadata": {},
   "outputs": [
    {
     "data": {
      "text/plain": [
       "26-element Array{BigInt,1}:\n",
       "          1\n",
       "          0\n",
       "        325\n",
       "          0\n",
       "      17550\n",
       "          0\n",
       "     376740\n",
       "          0\n",
       "    4292145\n",
       "          0\n",
       "   30045015\n",
       "          0\n",
       "  141120525\n",
       "          0\n",
       "  471435600\n",
       "          0\n",
       " 1166803110\n",
       "          0\n",
       " 2203961430\n",
       "          0\n",
       " 3247943160\n",
       "          0\n",
       " 3796297200\n",
       "          0\n",
       " 3562467300\n",
       "          0"
      ]
     },
     "execution_count": 19,
     "metadata": {},
     "output_type": "execute_result"
    }
   ],
   "source": [
    "coeff_array"
   ]
  },
  {
   "cell_type": "code",
   "execution_count": 20,
   "metadata": {},
   "outputs": [
    {
     "name": "stdout",
     "output_type": "stream",
     "text": [
      "search: \u001b[0m\u001b[1md\u001b[22m\u001b[0m\u001b[1mi\u001b[22m\u001b[0m\u001b[1mv\u001b[22m\u001b[0m\u001b[1mi\u001b[22m\u001b[0m\u001b[1md\u001b[22m\u001b[0m\u001b[1me\u001b[22m\u001b[0m\u001b[1ms\u001b[22m \u001b[0m\u001b[1mD\u001b[22m\u001b[0m\u001b[1mi\u001b[22m\u001b[0m\u001b[1mv\u001b[22m\u001b[0m\u001b[1mi\u001b[22m\u001b[0m\u001b[1md\u001b[22m\u001b[0m\u001b[1me\u001b[22mError\n",
      "\n"
     ]
    },
    {
     "data": {
      "text/latex": [
       "\\begin{verbatim}\n",
       "divides(f::AbstractAlgebra.PolyElem{T}, g::AbstractAlgebra.PolyElem{T}) where {T <: RingElement}\n",
       "\\end{verbatim}\n",
       "\\begin{quote}\n",
       "Return a pair consisting of a flag which is set to \\texttt{true} if $g$ divides $f$ and \\texttt{false} otherwise, and a polynomial $h$ such that $f = gh$ if such a polynomial exists. If not, the value of $h$ is undetermined.\n",
       "\n",
       "\\end{quote}\n",
       "\\rule{\\textwidth}{1pt}\n",
       "\\begin{verbatim}\n",
       "divides(z::AbstractAlgebra.PolyElem{T}, x::T) where {T <: RingElement}\n",
       "\\end{verbatim}\n",
       "\\begin{quote}\n",
       "Return a pair consisting of a flag which is set to \\texttt{true} if $x$ divides $z$ and \\texttt{false} otherwise, and a polynomial $y$ such that $z = xy$ if such a polynomial exists. If not, the value of $y$ is undetermined.\n",
       "\n",
       "\\end{quote}\n"
      ],
      "text/markdown": [
       "```\n",
       "divides(f::AbstractAlgebra.PolyElem{T}, g::AbstractAlgebra.PolyElem{T}) where {T <: RingElement}\n",
       "```\n",
       "\n",
       "> Return a pair consisting of a flag which is set to `true` if $g$ divides $f$ and `false` otherwise, and a polynomial $h$ such that $f = gh$ if such a polynomial exists. If not, the value of $h$ is undetermined.\n",
       "\n",
       "\n",
       "---\n",
       "\n",
       "```\n",
       "divides(z::AbstractAlgebra.PolyElem{T}, x::T) where {T <: RingElement}\n",
       "```\n",
       "\n",
       "> Return a pair consisting of a flag which is set to `true` if $x$ divides $z$ and `false` otherwise, and a polynomial $y$ such that $z = xy$ if such a polynomial exists. If not, the value of $y$ is undetermined.\n",
       "\n"
      ],
      "text/plain": [
       "\u001b[36m  divides(f::AbstractAlgebra.PolyElem{T}, g::AbstractAlgebra.PolyElem{T}) where {T <: RingElement}\u001b[39m\n",
       "\n",
       "  │  Return a pair consisting of a flag which is set to \u001b[36mtrue\u001b[39m if \u001b[35mg\u001b[39m\n",
       "  │  divides \u001b[35mf\u001b[39m and \u001b[36mfalse\u001b[39m otherwise, and a polynomial \u001b[35mh\u001b[39m such that \u001b[35mf = gh\u001b[39m\n",
       "  │  if such a polynomial exists. If not, the value of \u001b[35mh\u001b[39m is\n",
       "  │  undetermined.\n",
       "\n",
       "  ────────────────────────────────────────────────────────────────────────────\n",
       "\n",
       "\u001b[36m  divides(z::AbstractAlgebra.PolyElem{T}, x::T) where {T <: RingElement}\u001b[39m\n",
       "\n",
       "  │  Return a pair consisting of a flag which is set to \u001b[36mtrue\u001b[39m if \u001b[35mx\u001b[39m\n",
       "  │  divides \u001b[35mz\u001b[39m and \u001b[36mfalse\u001b[39m otherwise, and a polynomial \u001b[35my\u001b[39m such that \u001b[35mz = xy\u001b[39m\n",
       "  │  if such a polynomial exists. If not, the value of \u001b[35my\u001b[39m is\n",
       "  │  undetermined."
      ]
     },
     "execution_count": 20,
     "metadata": {},
     "output_type": "execute_result"
    }
   ],
   "source": [
    "?divides"
   ]
  },
  {
   "cell_type": "code",
   "execution_count": 21,
   "metadata": {},
   "outputs": [
    {
     "data": {
      "text/plain": [
       "(false, x^49+49*x^47+1128*x^45+16215*x^43+163185*x^41+1221759*x^39+7059052*x^37+32224114*x^35+118030185*x^33+350343565*x^31+847660528*x^29+1676056044*x^27+2707475148*x^25+3562467300*x^23+3796297200*x^21+3247943160*x^19+2203961430*x^17+1166803110*x^15+471435600*x^13+141120525*x^11+30045015*x^9+4292145*x^7+376740*x^5+17550*x^3+325*x)"
      ]
     },
     "execution_count": 21,
     "metadata": {},
     "output_type": "execute_result"
    }
   ],
   "source": [
    "divides(MA[52],x)"
   ]
  },
  {
   "cell_type": "code",
   "execution_count": 22,
   "metadata": {},
   "outputs": [
    {
     "data": {
      "text/plain": [
       "(true, x^22+22*x^20+210*x^18+1140*x^16+3876*x^14+8568*x^12+12376*x^10+11440*x^8+6435*x^6+2002*x^4+286*x^2+12)"
      ]
     },
     "execution_count": 22,
     "metadata": {},
     "output_type": "execute_result"
    }
   ],
   "source": [
    "divides(MA[25],x)"
   ]
  },
  {
   "cell_type": "code",
   "execution_count": null,
   "metadata": {},
   "outputs": [],
   "source": []
  }
 ],
 "metadata": {
  "kernelspec": {
   "display_name": "Julia 1.3.1",
   "language": "julia",
   "name": "julia-1.3"
  },
  "language_info": {
   "file_extension": ".jl",
   "mimetype": "application/julia",
   "name": "julia",
   "version": "1.3.1"
  }
 },
 "nbformat": 4,
 "nbformat_minor": 4
}
