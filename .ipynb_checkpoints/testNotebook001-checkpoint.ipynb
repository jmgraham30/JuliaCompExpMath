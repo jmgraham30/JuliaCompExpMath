{
 "cells": [
  {
   "cell_type": "markdown",
   "metadata": {},
   "source": [
    "Try out some Julia"
   ]
  },
  {
   "cell_type": "code",
   "execution_count": 1,
   "metadata": {},
   "outputs": [
    {
     "data": {
      "text/plain": [
       "modMult (generic function with 1 method)"
      ]
     },
     "execution_count": 1,
     "metadata": {},
     "output_type": "execute_result"
    }
   ],
   "source": [
    "function modAdd(x::Int,y::Int;n::Int=2)\n",
    "    return mod(x+y,n)\n",
    "end\n",
    "\n",
    "function modMult(x::Int,y::Int;n::Int=2)\n",
    "    return mod(x*y,n)\n",
    "end"
   ]
  },
  {
   "cell_type": "markdown",
   "metadata": {},
   "source": [
    "Addition and Multiplication Tables mod n"
   ]
  },
  {
   "cell_type": "code",
   "execution_count": 2,
   "metadata": {},
   "outputs": [],
   "source": [
    "n_val = Int(337);"
   ]
  },
  {
   "cell_type": "code",
   "execution_count": 3,
   "metadata": {},
   "outputs": [],
   "source": [
    "add = [modAdd(x,y,n=n_val) for x in 0:n_val-1 for y in 0:n_val-1];\n",
    "add_table = reshape(add,n_val,n_val);"
   ]
  },
  {
   "cell_type": "code",
   "execution_count": 4,
   "metadata": {},
   "outputs": [],
   "source": [
    "mult = [modMult(x,y,n=n_val) for x in 0:n_val-1 for y in 0:n_val-1];\n",
    "mult_table = reshape(mult,n_val,n_val);"
   ]
  },
  {
   "cell_type": "code",
   "execution_count": 5,
   "metadata": {},
   "outputs": [],
   "source": [
    "A = mult_table[2:end,2:end];"
   ]
  },
  {
   "cell_type": "code",
   "execution_count": 6,
   "metadata": {},
   "outputs": [
    {
     "name": "stdout",
     "output_type": "stream",
     "text": [
      "Yes\n"
     ]
    }
   ],
   "source": [
    "N = size(A)[1];\n",
    "k = 0;\n",
    "for i=1:N\n",
    "    for j=1:N\n",
    "        if A[i,j] == 1\n",
    "            k = k+1\n",
    "        end\n",
    "    end\n",
    "end\n",
    "\n",
    "if mod(k,n_val) == n_val-1\n",
    "    println(\"Yes\")\n",
    "else\n",
    "    println(\"No\")\n",
    "end"
   ]
  },
  {
   "cell_type": "code",
   "execution_count": 7,
   "metadata": {},
   "outputs": [
    {
     "data": {
      "text/plain": [
       "isField (generic function with 2 methods)"
      ]
     },
     "execution_count": 7,
     "metadata": {},
     "output_type": "execute_result"
    }
   ],
   "source": [
    "function isField(n_val::Int=2)\n",
    "    mult = [modMult(x,y,n=n_val) for x in 0:n_val-1 for y in 0:n_val-1];\n",
    "    k = 0;\n",
    "    for i in mult\n",
    "        if i == 1\n",
    "            k += 1;\n",
    "        end\n",
    "    end\n",
    "    if mod(k,n_val) == n_val-1\n",
    "        true\n",
    "    else\n",
    "        false\n",
    "    end\n",
    "end"
   ]
  },
  {
   "cell_type": "code",
   "execution_count": 11,
   "metadata": {},
   "outputs": [],
   "source": [
    "result = isField(7537);"
   ]
  },
  {
   "cell_type": "code",
   "execution_count": 12,
   "metadata": {},
   "outputs": [
    {
     "data": {
      "text/plain": [
       "true"
      ]
     },
     "execution_count": 12,
     "metadata": {},
     "output_type": "execute_result"
    }
   ],
   "source": [
    "result"
   ]
  },
  {
   "cell_type": "code",
   "execution_count": null,
   "metadata": {},
   "outputs": [],
   "source": []
  },
  {
   "cell_type": "code",
   "execution_count": null,
   "metadata": {},
   "outputs": [],
   "source": []
  },
  {
   "cell_type": "code",
   "execution_count": null,
   "metadata": {},
   "outputs": [],
   "source": []
  },
  {
   "cell_type": "code",
   "execution_count": null,
   "metadata": {},
   "outputs": [],
   "source": []
  }
 ],
 "metadata": {
  "kernelspec": {
   "display_name": "Julia 1.3.1",
   "language": "julia",
   "name": "julia-1.3"
  },
  "language_info": {
   "file_extension": ".jl",
   "mimetype": "application/julia",
   "name": "julia",
   "version": "1.3.1"
  }
 },
 "nbformat": 4,
 "nbformat_minor": 4
}
