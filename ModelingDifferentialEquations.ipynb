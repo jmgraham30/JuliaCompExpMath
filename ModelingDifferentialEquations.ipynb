{
 "cells": [
  {
   "cell_type": "markdown",
   "metadata": {},
   "source": [
    "# Modeling Differential Equations with Julia and [DifferentialEquations.jl](https://docs.sciml.ai/stable/)\n",
    "\n"
   ]
  },
  {
   "cell_type": "markdown",
   "metadata": {},
   "source": [
    "DifferentialEquations.jl is a package for Julia that provides a superb suite of high quality implementations for numerical solvers for differential equations problems. We recommend the following videos for a tutorial and more information:\n",
    "\n",
    "1. [Intro to solving DEs in Julia](https://www.youtube.com/watch?v=KPEqYtEd-zY&feature=youtu.be)\n",
    "2. [Juia and DifferentialEquations.jl](https://www.youtube.com/watch?v=zJ3R6vOhibA&t=1490s)"
   ]
  },
  {
   "cell_type": "code",
   "execution_count": 1,
   "metadata": {},
   "outputs": [
    {
     "name": "stderr",
     "output_type": "stream",
     "text": [
      "┌ Info: Precompiling DifferentialEquations [0c46a032-eb83-5123-abaf-570d42b7fbaa]\n",
      "└ @ Base loading.jl:1273\n",
      "┌ Info: Precompiling PyPlot [d330b81b-6aea-500a-939a-2ce795aea3ee]\n",
      "└ @ Base loading.jl:1273\n"
     ]
    }
   ],
   "source": [
    "using DifferentialEquations, Plots; pyplot();"
   ]
  },
  {
   "cell_type": "code",
   "execution_count": null,
   "metadata": {},
   "outputs": [],
   "source": []
  }
 ],
 "metadata": {
  "kernelspec": {
   "display_name": "Julia 1.3.1",
   "language": "julia",
   "name": "julia-1.3"
  },
  "language_info": {
   "file_extension": ".jl",
   "mimetype": "application/julia",
   "name": "julia",
   "version": "1.3.1"
  }
 },
 "nbformat": 4,
 "nbformat_minor": 2
}
