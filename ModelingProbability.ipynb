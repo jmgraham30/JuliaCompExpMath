{
 "cells": [
  {
   "cell_type": "markdown",
   "metadata": {},
   "source": [
    "# Modeling Probability and Randomness in Julia"
   ]
  },
  {
   "cell_type": "markdown",
   "metadata": {},
   "source": [
    "The two most important packages for modeling probability and randomness in Julia are [Random.jl](https://docs.julialang.org/en/v1/stdlib/Random/) and [Distributions.jl](https://juliastats.org/Distributions.jl/stable/). Excellent references for the material presented in this notebook are [The Distributions.jl paper](https://arxiv.org/pdf/1907.08611.pdf) and [Statistics with Julia](https://people.smp.uq.edu.au/YoniNazarathy/julia-stats/StatisticsWithJulia.pdf). "
   ]
  },
  {
   "cell_type": "code",
   "execution_count": 1,
   "metadata": {},
   "outputs": [],
   "source": [
    "using Statistics, StatsBase, Random, Distributions, Plots; pyplot();"
   ]
  },
  {
   "cell_type": "markdown",
   "metadata": {},
   "source": [
    "Recall that a random variable $X$ quantifies outcomes or events from a random experiment, that is, a procedure with well-deinfed outcomes that can not be precisely determined *a priori*. The principal characteristic of a random variable is its probability distribution, although numerical summaries of random variables such as the expected value (mean) and variance play a major role in understanding randomness. The distribution of a random variable is typically described by way of a cumulative distribution function (cdf) or a probability density function (pdf) in the continuous case or probability mass function (pmf) is the discrete case.    "
   ]
  },
  {
   "cell_type": "markdown",
   "metadata": {},
   "source": [
    "In computational and experimental mathematics one often wants to simulate randomness by drawing samples for a random variable with some particular properties. This is made possible by Random.jl (for normal and uniform distributions) and Distributions.jl (for a wide class of probability distributions.) We will illustrate these now.  "
   ]
  },
  {
   "cell_type": "code",
   "execution_count": 2,
   "metadata": {},
   "outputs": [
    {
     "data": {
      "text/plain": [
       "10-element Array{Float64,1}:\n",
       " -1.1649273439584678\n",
       "  0.32558528639507056\n",
       " -1.4843454247242784\n",
       " -0.7564635140288348\n",
       " -0.1336304257957152\n",
       " -0.390039049433366\n",
       " -0.6988802582514324\n",
       " -1.5399176928627176\n",
       " -0.2823421500806317\n",
       "  0.5025079050745869"
      ]
     },
     "execution_count": 2,
     "metadata": {},
     "output_type": "execute_result"
    }
   ],
   "source": [
    "# draw a sample of size 10 from a standard normal distribution\n",
    "randn(10)"
   ]
  },
  {
   "cell_type": "code",
   "execution_count": 3,
   "metadata": {},
   "outputs": [
    {
     "data": {
      "image/png": "[encoded data removed]"
     },
     "execution_count": 3,
     "metadata": {},
     "output_type": "execute_result"
    }
   ],
   "source": [
    "# plot a histogram of samples from a standard normal distribution\n",
    "histogram(randn(100),legend=false)"
   ]
  },
  {
   "cell_type": "markdown",
   "metadata": {},
   "source": [
    "The standard normal random variable has mean 0 and standard deviation 1. To simulate random samples from a normal distribution with mean $\\mu$ and standard deviation $\\sigma$ we may simply do as follows:"
   ]
  },
  {
   "cell_type": "code",
   "execution_count": 4,
   "metadata": {},
   "outputs": [
    {
     "data": {
      "text/plain": [
       "10-element Array{Float64,1}:\n",
       " 5.6715753727485545\n",
       " 6.615430986649054\n",
       " 6.460069683448192\n",
       " 3.7177063247299067\n",
       " 1.939612157472184\n",
       " 1.9482793459856165\n",
       " 9.542847803657853\n",
       " 3.4499853041111503\n",
       " 3.790784483434424\n",
       " 3.358306380324234"
      ]
     },
     "execution_count": 4,
     "metadata": {},
     "output_type": "execute_result"
    }
   ],
   "source": [
    "μ = 5.\n",
    "σ = 2.75\n",
    "X = σ*randn(10) .+ μ # the .+ is necessary for elementwise operations"
   ]
  },
  {
   "cell_type": "markdown",
   "metadata": {},
   "source": [
    "Notice what happens if we compute the mean and standard deviation of our random sample, the results will be close to the values of $\\mu$ and $\\sigma$ but not exact since we have only taken a sample. "
   ]
  },
  {
   "cell_type": "code",
   "execution_count": 5,
   "metadata": {},
   "outputs": [
    {
     "name": "stdout",
     "output_type": "stream",
     "text": [
      "4.649459784256118\n",
      "2.3917513667561754\n"
     ]
    }
   ],
   "source": [
    "println(mean(X))\n",
    "println(std(X))"
   ]
  },
  {
   "cell_type": "code",
   "execution_count": 6,
   "metadata": {},
   "outputs": [
    {
     "data": {
      "text/plain": [
       "10-element Array{Float64,1}:\n",
       " 0.253115206878215\n",
       " 0.8827714900088377\n",
       " 0.9620540547020127\n",
       " 0.31038354843551463\n",
       " 0.005249917403984394\n",
       " 0.45344797286509664\n",
       " 0.44845026558378653\n",
       " 0.4179530676386345\n",
       " 0.1280595652908838\n",
       " 0.8201030231923252"
      ]
     },
     "execution_count": 6,
     "metadata": {},
     "output_type": "execute_result"
    }
   ],
   "source": [
    "# draw a sample of size 10 from a uniform distribution on [0,1]\n",
    "rand(10)"
   ]
  },
  {
   "cell_type": "code",
   "execution_count": 7,
   "metadata": {},
   "outputs": [
    {
     "data": {
      "image/png": "[encoded data removed]"
     },
     "execution_count": 7,
     "metadata": {},
     "output_type": "execute_result"
    }
   ],
   "source": [
    "# plot a histogram of samples from a standard normal distribution\n",
    "histogram(rand(100),legend=false)"
   ]
  },
  {
   "cell_type": "markdown",
   "metadata": {},
   "source": [
    "To simulate random samples from a uniform distribution over an arbitrary interval $[a,b]$ simply do:"
   ]
  },
  {
   "cell_type": "code",
   "execution_count": 8,
   "metadata": {},
   "outputs": [
    {
     "data": {
      "text/plain": [
       "10-element Array{Float64,1}:\n",
       " 5.926035658674832\n",
       " 4.198917520216536\n",
       " 3.4323885327780284\n",
       " 7.193404098380634\n",
       " 7.363756128933973\n",
       " 7.872491330372746\n",
       " 7.897386160331411\n",
       " 6.4623352035872195\n",
       " 3.6240709304922554\n",
       " 6.562864189882999"
      ]
     },
     "execution_count": 8,
     "metadata": {},
     "output_type": "execute_result"
    }
   ],
   "source": [
    "a = 3;\n",
    "b = 8;\n",
    "X = (b-a)*rand(10) .+ a"
   ]
  },
  {
   "cell_type": "markdown",
   "metadata": {},
   "source": [
    "We can use the sample function to draw a single sample from a specific set."
   ]
  },
  {
   "cell_type": "code",
   "execution_count": 9,
   "metadata": {},
   "outputs": [
    {
     "name": "stdout",
     "output_type": "stream",
     "text": [
      "search: \u001b[0m\u001b[1ms\u001b[22m\u001b[0m\u001b[1ma\u001b[22m\u001b[0m\u001b[1mm\u001b[22m\u001b[0m\u001b[1mp\u001b[22m\u001b[0m\u001b[1ml\u001b[22m\u001b[0m\u001b[1me\u001b[22m \u001b[0m\u001b[1ms\u001b[22m\u001b[0m\u001b[1ma\u001b[22m\u001b[0m\u001b[1mm\u001b[22m\u001b[0m\u001b[1mp\u001b[22m\u001b[0m\u001b[1ml\u001b[22m\u001b[0m\u001b[1me\u001b[22mr \u001b[0m\u001b[1ms\u001b[22m\u001b[0m\u001b[1ma\u001b[22m\u001b[0m\u001b[1mm\u001b[22m\u001b[0m\u001b[1mp\u001b[22m\u001b[0m\u001b[1ml\u001b[22m\u001b[0m\u001b[1me\u001b[22m! \u001b[0m\u001b[1ms\u001b[22m\u001b[0m\u001b[1ma\u001b[22m\u001b[0m\u001b[1mm\u001b[22m\u001b[0m\u001b[1mp\u001b[22m\u001b[0m\u001b[1ml\u001b[22m\u001b[0m\u001b[1me\u001b[22mpair \u001b[0m\u001b[1mS\u001b[22m\u001b[0m\u001b[1ma\u001b[22m\u001b[0m\u001b[1mm\u001b[22m\u001b[0m\u001b[1mp\u001b[22m\u001b[0m\u001b[1ml\u001b[22m\u001b[0m\u001b[1me\u001b[22mable w\u001b[0m\u001b[1ms\u001b[22m\u001b[0m\u001b[1ma\u001b[22m\u001b[0m\u001b[1mm\u001b[22m\u001b[0m\u001b[1mp\u001b[22m\u001b[0m\u001b[1ml\u001b[22m\u001b[0m\u001b[1me\u001b[22m w\u001b[0m\u001b[1ms\u001b[22m\u001b[0m\u001b[1ma\u001b[22m\u001b[0m\u001b[1mm\u001b[22m\u001b[0m\u001b[1mp\u001b[22m\u001b[0m\u001b[1ml\u001b[22m\u001b[0m\u001b[1me\u001b[22m! n\u001b[0m\u001b[1ms\u001b[22m\u001b[0m\u001b[1ma\u001b[22m\u001b[0m\u001b[1mm\u001b[22m\u001b[0m\u001b[1mp\u001b[22m\u001b[0m\u001b[1ml\u001b[22m\u001b[0m\u001b[1me\u001b[22ms\n",
      "\n"
     ]
    },
    {
     "data": {
      "text/latex": [
       "\\begin{verbatim}\n",
       "sample([rng], a, [wv::AbstractWeights])\n",
       "\\end{verbatim}\n",
       "Select a single random element of \\texttt{a}. Sampling probabilities are proportional to the weights given in \\texttt{wv}, if provided.\n",
       "\n",
       "Optionally specify a random number generator \\texttt{rng} as the first argument (defaults to \\texttt{Random.GLOBAL\\_RNG}).\n",
       "\n",
       "\\rule{\\textwidth}{1pt}\n",
       "\\begin{verbatim}\n",
       "sample([rng], a, [wv::AbstractWeights], n::Integer; replace=true, ordered=false)\n",
       "\\end{verbatim}\n",
       "Select a random, optionally weighted sample of size \\texttt{n} from an array \\texttt{a} using a polyalgorithm. Sampling probabilities are proportional to the weights given in \\texttt{wv}, if provided. \\texttt{replace} dictates whether sampling is performed with replacement and \\texttt{order} dictates whether an ordered sample, also called a sequential sample, should be taken.\n",
       "\n",
       "Optionally specify a random number generator \\texttt{rng} as the first argument (defaults to \\texttt{Random.GLOBAL\\_RNG}).\n",
       "\n",
       "\\rule{\\textwidth}{1pt}\n",
       "\\begin{verbatim}\n",
       "sample([rng], a, [wv::AbstractWeights], dims::Dims; replace=true, ordered=false)\n",
       "\\end{verbatim}\n",
       "Select a random, optionally weighted sample from an array \\texttt{a} specifying the dimensions \\texttt{dims} of the output array. Sampling probabilities are proportional to the weights given in \\texttt{wv}, if provided. \\texttt{replace} dictates whether sampling is performed with replacement and \\texttt{order} dictates whether an ordered sample, also called a sequential sample, should be taken.\n",
       "\n",
       "Optionally specify a random number generator \\texttt{rng} as the first argument (defaults to \\texttt{Random.GLOBAL\\_RNG}).\n",
       "\n",
       "\\rule{\\textwidth}{1pt}\n",
       "\\begin{verbatim}\n",
       "sample([rng], wv::AbstractWeights)\n",
       "\\end{verbatim}\n",
       "Select a single random integer in \\texttt{1:length(wv)} with probabilities proportional to the weights given in \\texttt{wv}.\n",
       "\n",
       "Optionally specify a random number generator \\texttt{rng} as the first argument (defaults to \\texttt{Random.GLOBAL\\_RNG}).\n",
       "\n"
      ],
      "text/markdown": [
       "```\n",
       "sample([rng], a, [wv::AbstractWeights])\n",
       "```\n",
       "\n",
       "Select a single random element of `a`. Sampling probabilities are proportional to the weights given in `wv`, if provided.\n",
       "\n",
       "Optionally specify a random number generator `rng` as the first argument (defaults to `Random.GLOBAL_RNG`).\n",
       "\n",
       "---\n",
       "\n",
       "```\n",
       "sample([rng], a, [wv::AbstractWeights], n::Integer; replace=true, ordered=false)\n",
       "```\n",
       "\n",
       "Select a random, optionally weighted sample of size `n` from an array `a` using a polyalgorithm. Sampling probabilities are proportional to the weights given in `wv`, if provided. `replace` dictates whether sampling is performed with replacement and `order` dictates whether an ordered sample, also called a sequential sample, should be taken.\n",
       "\n",
       "Optionally specify a random number generator `rng` as the first argument (defaults to `Random.GLOBAL_RNG`).\n",
       "\n",
       "---\n",
       "\n",
       "```\n",
       "sample([rng], a, [wv::AbstractWeights], dims::Dims; replace=true, ordered=false)\n",
       "```\n",
       "\n",
       "Select a random, optionally weighted sample from an array `a` specifying the dimensions `dims` of the output array. Sampling probabilities are proportional to the weights given in `wv`, if provided. `replace` dictates whether sampling is performed with replacement and `order` dictates whether an ordered sample, also called a sequential sample, should be taken.\n",
       "\n",
       "Optionally specify a random number generator `rng` as the first argument (defaults to `Random.GLOBAL_RNG`).\n",
       "\n",
       "---\n",
       "\n",
       "```\n",
       "sample([rng], wv::AbstractWeights)\n",
       "```\n",
       "\n",
       "Select a single random integer in `1:length(wv)` with probabilities proportional to the weights given in `wv`.\n",
       "\n",
       "Optionally specify a random number generator `rng` as the first argument (defaults to `Random.GLOBAL_RNG`).\n"
      ],
      "text/plain": [
       "\u001b[36m  sample([rng], a, [wv::AbstractWeights])\u001b[39m\n",
       "\n",
       "  Select a single random element of \u001b[36ma\u001b[39m. Sampling probabilities are proportional\n",
       "  to the weights given in \u001b[36mwv\u001b[39m, if provided.\n",
       "\n",
       "  Optionally specify a random number generator \u001b[36mrng\u001b[39m as the first argument\n",
       "  (defaults to \u001b[36mRandom.GLOBAL_RNG\u001b[39m).\n",
       "\n",
       "  ────────────────────────────────────────────────────────────────────────────\n",
       "\n",
       "\u001b[36m  sample([rng], a, [wv::AbstractWeights], n::Integer; replace=true, ordered=false)\u001b[39m\n",
       "\n",
       "  Select a random, optionally weighted sample of size \u001b[36mn\u001b[39m from an array \u001b[36ma\u001b[39m using\n",
       "  a polyalgorithm. Sampling probabilities are proportional to the weights\n",
       "  given in \u001b[36mwv\u001b[39m, if provided. \u001b[36mreplace\u001b[39m dictates whether sampling is performed\n",
       "  with replacement and \u001b[36morder\u001b[39m dictates whether an ordered sample, also called a\n",
       "  sequential sample, should be taken.\n",
       "\n",
       "  Optionally specify a random number generator \u001b[36mrng\u001b[39m as the first argument\n",
       "  (defaults to \u001b[36mRandom.GLOBAL_RNG\u001b[39m).\n",
       "\n",
       "  ────────────────────────────────────────────────────────────────────────────\n",
       "\n",
       "\u001b[36m  sample([rng], a, [wv::AbstractWeights], dims::Dims; replace=true, ordered=false)\u001b[39m\n",
       "\n",
       "  Select a random, optionally weighted sample from an array \u001b[36ma\u001b[39m specifying the\n",
       "  dimensions \u001b[36mdims\u001b[39m of the output array. Sampling probabilities are proportional\n",
       "  to the weights given in \u001b[36mwv\u001b[39m, if provided. \u001b[36mreplace\u001b[39m dictates whether sampling\n",
       "  is performed with replacement and \u001b[36morder\u001b[39m dictates whether an ordered sample,\n",
       "  also called a sequential sample, should be taken.\n",
       "\n",
       "  Optionally specify a random number generator \u001b[36mrng\u001b[39m as the first argument\n",
       "  (defaults to \u001b[36mRandom.GLOBAL_RNG\u001b[39m).\n",
       "\n",
       "  ────────────────────────────────────────────────────────────────────────────\n",
       "\n",
       "\u001b[36m  sample([rng], wv::AbstractWeights)\u001b[39m\n",
       "\n",
       "  Select a single random integer in \u001b[36m1:length(wv)\u001b[39m with probabilities\n",
       "  proportional to the weights given in \u001b[36mwv\u001b[39m.\n",
       "\n",
       "  Optionally specify a random number generator \u001b[36mrng\u001b[39m as the first argument\n",
       "  (defaults to \u001b[36mRandom.GLOBAL_RNG\u001b[39m)."
      ]
     },
     "execution_count": 9,
     "metadata": {},
     "output_type": "execute_result"
    }
   ],
   "source": [
    "?sample"
   ]
  },
  {
   "cell_type": "code",
   "execution_count": 10,
   "metadata": {},
   "outputs": [
    {
     "data": {
      "text/plain": [
       "2"
      ]
     },
     "execution_count": 10,
     "metadata": {},
     "output_type": "execute_result"
    }
   ],
   "source": [
    "A = [1,2,3,4,5,6];\n",
    "sample(A)"
   ]
  },
  {
   "cell_type": "markdown",
   "metadata": {},
   "source": [
    "Or samples of a fixed size from a specific set."
   ]
  },
  {
   "cell_type": "code",
   "execution_count": 11,
   "metadata": {},
   "outputs": [
    {
     "data": {
      "text/plain": [
       "3-element Array{Int64,1}:\n",
       " 3\n",
       " 1\n",
       " 4"
      ]
     },
     "execution_count": 11,
     "metadata": {},
     "output_type": "execute_result"
    }
   ],
   "source": [
    "sample(A,3,replace=false)"
   ]
  },
  {
   "cell_type": "code",
   "execution_count": 12,
   "metadata": {},
   "outputs": [
    {
     "data": {
      "text/plain": [
       "10-element Array{Int64,1}:\n",
       " 6\n",
       " 5\n",
       " 2\n",
       " 6\n",
       " 4\n",
       " 5\n",
       " 2\n",
       " 6\n",
       " 1\n",
       " 2"
      ]
     },
     "execution_count": 12,
     "metadata": {},
     "output_type": "execute_result"
    }
   ],
   "source": [
    "sample(A,10,replace=true)"
   ]
  },
  {
   "cell_type": "markdown",
   "metadata": {},
   "source": [
    "We can use this, for example, to simulate rolling a six-sided die three times and adding up the result. "
   ]
  },
  {
   "cell_type": "code",
   "execution_count": 13,
   "metadata": {},
   "outputs": [
    {
     "name": "stdout",
     "output_type": "stream",
     "text": [
      "[4, 3, 4]\n",
      "11\n"
     ]
    }
   ],
   "source": [
    "# illustration of a single round\n",
    "tosses = sample(A,3,replace=true)\n",
    "sum_vals = sum(tosses)\n",
    "println(tosses)\n",
    "println(sum_vals)"
   ]
  },
  {
   "cell_type": "code",
   "execution_count": 14,
   "metadata": {},
   "outputs": [],
   "source": [
    "# the results of many rounds\n",
    "plays = [sum(sample(A,3,replace=true)) for _ in 1:100000];"
   ]
  },
  {
   "cell_type": "markdown",
   "metadata": {},
   "source": [
    "Let's examine the results of our simulation by counting up the number of times each of the possible sums of three dice values occurs. "
   ]
  },
  {
   "cell_type": "code",
   "execution_count": 15,
   "metadata": {},
   "outputs": [
    {
     "data": {
      "text/plain": [
       "16-element Array{Int64,1}:\n",
       "   445\n",
       "  1336\n",
       "  2734\n",
       "  4634\n",
       "  7048\n",
       "  9667\n",
       " 11813\n",
       " 12402\n",
       " 12416\n",
       " 11583\n",
       "  9679\n",
       "  7010\n",
       "  4580\n",
       "  2803\n",
       "  1395\n",
       "   455"
      ]
     },
     "execution_count": 15,
     "metadata": {},
     "output_type": "execute_result"
    }
   ],
   "source": [
    "counts(plays)"
   ]
  },
  {
   "cell_type": "markdown",
   "metadata": {},
   "source": [
    "A bar plot of these values is highly informative. "
   ]
  },
  {
   "cell_type": "code",
   "execution_count": 16,
   "metadata": {},
   "outputs": [
    {
     "data": {
      "image/png": "[encoded data removed]"
     },
     "execution_count": 16,
     "metadata": {},
     "output_type": "execute_result"
    }
   ],
   "source": [
    "# plot of the results\n",
    "vals = 3:18;\n",
    "bar(vals,counts(plays),legend=false)"
   ]
  },
  {
   "cell_type": "markdown",
   "metadata": {},
   "source": [
    "Let's also compute the mean."
   ]
  },
  {
   "cell_type": "code",
   "execution_count": 17,
   "metadata": {},
   "outputs": [
    {
     "data": {
      "text/plain": [
       "10.50154"
      ]
     },
     "execution_count": 17,
     "metadata": {},
     "output_type": "execute_result"
    }
   ],
   "source": [
    "mean(plays)"
   ]
  },
  {
   "cell_type": "markdown",
   "metadata": {},
   "source": [
    "Distributions.jl builds on what we have seen so far by implementing a large collection of probability distributions and related functions. Particularly, Distributions implements:\n",
    "\n",
    "* Sampling from distributions\n",
    "* Moments (e.g mean, variance, skewness, and kurtosis), entropy, and other properties\n",
    "* Probability density/mass functions (pdf) and their logarithm (logpdf)\n",
    "* Moment-generating functions and characteristic functions\n",
    "* Maximum likelihood estimation\n",
    "* Distribution composition (Cartesian product of distributions, truncated distributions)\n",
    "\n",
    "We will illustrate a small part of the functionality for Distribution.jl, see the [documentation](http://juliastats.org/Distributions.jl/v0.22/) or the references [The Distributions.jl paper](https://arxiv.org/pdf/1907.08611.pdf) and [Statistics with Julia](https://people.smp.uq.edu.au/YoniNazarathy/julia-stats/StatisticsWithJulia.pdf) for more details and applications. "
   ]
  },
  {
   "cell_type": "markdown",
   "metadata": {},
   "source": [
    "A common discrete distribution is the binomial distributions which models the probability of tossing $k$ heads out of $n$ total tosses of a coin where the probability of landing heads on any single toss is some value $p$. Let's see how this is implemented in Julia via Distributions.jl. "
   ]
  },
  {
   "cell_type": "code",
   "execution_count": 18,
   "metadata": {},
   "outputs": [
    {
     "name": "stdout",
     "output_type": "stream",
     "text": [
      "search: \u001b[0m\u001b[1mB\u001b[22m\u001b[0m\u001b[1mi\u001b[22m\u001b[0m\u001b[1mn\u001b[22m\u001b[0m\u001b[1mo\u001b[22m\u001b[0m\u001b[1mm\u001b[22m\u001b[0m\u001b[1mi\u001b[22m\u001b[0m\u001b[1ma\u001b[22m\u001b[0m\u001b[1ml\u001b[22m \u001b[0m\u001b[1mb\u001b[22m\u001b[0m\u001b[1mi\u001b[22m\u001b[0m\u001b[1mn\u001b[22m\u001b[0m\u001b[1mo\u001b[22m\u001b[0m\u001b[1mm\u001b[22m\u001b[0m\u001b[1mi\u001b[22m\u001b[0m\u001b[1ma\u001b[22m\u001b[0m\u001b[1ml\u001b[22m Poisson\u001b[0m\u001b[1mB\u001b[22m\u001b[0m\u001b[1mi\u001b[22m\u001b[0m\u001b[1mn\u001b[22m\u001b[0m\u001b[1mo\u001b[22m\u001b[0m\u001b[1mm\u001b[22m\u001b[0m\u001b[1mi\u001b[22m\u001b[0m\u001b[1ma\u001b[22m\u001b[0m\u001b[1ml\u001b[22m Negative\u001b[0m\u001b[1mB\u001b[22m\u001b[0m\u001b[1mi\u001b[22m\u001b[0m\u001b[1mn\u001b[22m\u001b[0m\u001b[1mo\u001b[22m\u001b[0m\u001b[1mm\u001b[22m\u001b[0m\u001b[1mi\u001b[22m\u001b[0m\u001b[1ma\u001b[22m\u001b[0m\u001b[1ml\u001b[22m \u001b[0m\u001b[1mB\u001b[22metaB\u001b[0m\u001b[1mi\u001b[22m\u001b[0m\u001b[1mn\u001b[22m\u001b[0m\u001b[1mo\u001b[22m\u001b[0m\u001b[1mm\u001b[22m\u001b[0m\u001b[1mi\u001b[22m\u001b[0m\u001b[1ma\u001b[22m\u001b[0m\u001b[1ml\u001b[22m\n",
      "\n"
     ]
    },
    {
     "data": {
      "text/latex": [
       "\\begin{verbatim}\n",
       "Binomial(n,p)\n",
       "\\end{verbatim}\n",
       "A \\emph{Binomial distribution} characterizes the number of successes in a sequence of independent trials. It has two parameters: \\texttt{n}, the number of trials, and \\texttt{p}, the probability of success in an individual trial, with the distribution:\n",
       "\n",
       "$$P(X = k) = {n \\choose k}p^k(1-p)^{n-k},  \\quad \\text{ for } k = 0,1,2, \\ldots, n.$$\n",
       "\\begin{verbatim}\n",
       "Binomial()      # Binomial distribution with n = 1 and p = 0.5\n",
       "Binomial(n)     # Binomial distribution for n trials with success rate p = 0.5\n",
       "Binomial(n, p)  # Binomial distribution for n trials with success rate p\n",
       "\n",
       "params(d)       # Get the parameters, i.e. (n, p)\n",
       "ntrials(d)      # Get the number of trials, i.e. n\n",
       "succprob(d)     # Get the success rate, i.e. p\n",
       "failprob(d)     # Get the failure rate, i.e. 1 - p\n",
       "\\end{verbatim}\n",
       "External links:\n",
       "\n",
       "\\begin{itemize}\n",
       "\\item \\href{http://en.wikipedia.org/wiki/Binomial_distribution}{Binomial distribution on Wikipedia}\n",
       "\n",
       "\\end{itemize}\n"
      ],
      "text/markdown": [
       "```\n",
       "Binomial(n,p)\n",
       "```\n",
       "\n",
       "A *Binomial distribution* characterizes the number of successes in a sequence of independent trials. It has two parameters: `n`, the number of trials, and `p`, the probability of success in an individual trial, with the distribution:\n",
       "\n",
       "$$\n",
       "P(X = k) = {n \\choose k}p^k(1-p)^{n-k},  \\quad \\text{ for } k = 0,1,2, \\ldots, n.\n",
       "$$\n",
       "\n",
       "```julia\n",
       "Binomial()      # Binomial distribution with n = 1 and p = 0.5\n",
       "Binomial(n)     # Binomial distribution for n trials with success rate p = 0.5\n",
       "Binomial(n, p)  # Binomial distribution for n trials with success rate p\n",
       "\n",
       "params(d)       # Get the parameters, i.e. (n, p)\n",
       "ntrials(d)      # Get the number of trials, i.e. n\n",
       "succprob(d)     # Get the success rate, i.e. p\n",
       "failprob(d)     # Get the failure rate, i.e. 1 - p\n",
       "```\n",
       "\n",
       "External links:\n",
       "\n",
       "  * [Binomial distribution on Wikipedia](http://en.wikipedia.org/wiki/Binomial_distribution)\n"
      ],
      "text/plain": [
       "\u001b[36m  Binomial(n,p)\u001b[39m\n",
       "\n",
       "  A \u001b[4mBinomial distribution\u001b[24m characterizes the number of successes in a sequence\n",
       "  of independent trials. It has two parameters: \u001b[36mn\u001b[39m, the number of trials, and\n",
       "  \u001b[36mp\u001b[39m, the probability of success in an individual trial, with the distribution:\n",
       "\n",
       "\u001b[35mP(X = k) = {n \\choose k}p^k(1-p)^{n-k},  \\quad \\text{ for } k = 0,1,2, \\ldots, n.\u001b[39m\n",
       "\n",
       "\u001b[36m  Binomial()      # Binomial distribution with n = 1 and p = 0.5\u001b[39m\n",
       "\u001b[36m  Binomial(n)     # Binomial distribution for n trials with success rate p = 0.5\u001b[39m\n",
       "\u001b[36m  Binomial(n, p)  # Binomial distribution for n trials with success rate p\u001b[39m\n",
       "\u001b[36m  \u001b[39m\n",
       "\u001b[36m  params(d)       # Get the parameters, i.e. (n, p)\u001b[39m\n",
       "\u001b[36m  ntrials(d)      # Get the number of trials, i.e. n\u001b[39m\n",
       "\u001b[36m  succprob(d)     # Get the success rate, i.e. p\u001b[39m\n",
       "\u001b[36m  failprob(d)     # Get the failure rate, i.e. 1 - p\u001b[39m\n",
       "\n",
       "  External links:\n",
       "\n",
       "    •    Binomial distribution on Wikipedia\n",
       "        (http://en.wikipedia.org/wiki/Binomial_distribution)"
      ]
     },
     "execution_count": 18,
     "metadata": {},
     "output_type": "execute_result"
    }
   ],
   "source": [
    "?Binomial"
   ]
  },
  {
   "cell_type": "code",
   "execution_count": 20,
   "metadata": {},
   "outputs": [
    {
     "data": {
      "text/plain": [
       "Binomial{Float64}(n=10, p=0.5)"
      ]
     },
     "execution_count": 20,
     "metadata": {},
     "output_type": "execute_result"
    }
   ],
   "source": [
    "# create a binomial random variable with n=10 and p=0.5\n",
    "binom = Binomial(10,0.5)"
   ]
  },
  {
   "cell_type": "code",
   "execution_count": 22,
   "metadata": {},
   "outputs": [
    {
     "name": "stdout",
     "output_type": "stream",
     "text": [
      "5.0\n",
      "2.5\n"
     ]
    }
   ],
   "source": [
    "# compute the mean and variance for this random variable\n",
    "println(mean(binom))\n",
    "println(var(binom))"
   ]
  },
  {
   "cell_type": "markdown",
   "metadata": {},
   "source": [
    "Let's take a few samples from this distribution."
   ]
  },
  {
   "cell_type": "code",
   "execution_count": 23,
   "metadata": {},
   "outputs": [
    {
     "data": {
      "text/plain": [
       "10-element Array{Int64,1}:\n",
       " 3\n",
       " 6\n",
       " 5\n",
       " 7\n",
       " 2\n",
       " 6\n",
       " 6\n",
       " 7\n",
       " 5\n",
       " 7"
      ]
     },
     "execution_count": 23,
     "metadata": {},
     "output_type": "execute_result"
    }
   ],
   "source": [
    "rand(binom,10)"
   ]
  },
  {
   "cell_type": "markdown",
   "metadata": {},
   "source": [
    "Let's take a large number of random samples from this distribution and plot the result as a histogram. "
   ]
  },
  {
   "cell_type": "code",
   "execution_count": 29,
   "metadata": {},
   "outputs": [
    {
     "data": {
      "image/png": "[encoded data removed]"
     },
     "execution_count": 29,
     "metadata": {},
     "output_type": "execute_result"
    }
   ],
   "source": [
    "samps = rand(binom,10000);\n",
    "histogram(samps,legend=false)"
   ]
  },
  {
   "cell_type": "markdown",
   "metadata": {},
   "source": [
    "Let's plot the probability mass function for this random variable. (Note that Julia refers to both pdf's and pmf's as pdf.)"
   ]
  },
  {
   "cell_type": "code",
   "execution_count": 30,
   "metadata": {},
   "outputs": [
    {
     "data": {
      "image/png": "[encoded data removed]"
     },
     "execution_count": 30,
     "metadata": {},
     "output_type": "execute_result"
    }
   ],
   "source": [
    "k = 0:10;\n",
    "y = pdf.(binom,k);\n",
    "plot(k, y,line=:stem, marker=:xcross, c=:red,\n",
    "   ms=6, msw=0, lw=2, label=\"binomial pmf\", xticks=(0:1:10),\n",
    "   ylims=(0,0.3), xlabel=\"k\", ylabel=\"Probability\")"
   ]
  },
  {
   "cell_type": "markdown",
   "metadata": {},
   "source": [
    "Plotting the cdf is just as easy."
   ]
  },
  {
   "cell_type": "code",
   "execution_count": 35,
   "metadata": {},
   "outputs": [
    {
     "data": {
      "image/png": "[encoded data removed]"
     },
     "execution_count": 35,
     "metadata": {},
     "output_type": "execute_result"
    }
   ],
   "source": [
    "k = 0:10;\n",
    "y = cdf.(binom,k);\n",
    "scatter(k, y, marker=:xcross, c=:blue,\n",
    "   ms=6, msw=0, lw=2, label=\"binomial cdf\", legend=:topleft,xticks=(0:1:10),\n",
    "   ylims=(0,1.1), xlabel=\"k\", ylabel=\"Probability\")"
   ]
  },
  {
   "cell_type": "markdown",
   "metadata": {},
   "source": [
    "Recall that the binomial distribution is a **discrete** distribution. The domain for a binomial distribution is $\\{0,1,\\ldots, n\\}$ where $n$ is the total number of trials. Notice what happens if we attempt to compute the pmf value for a binomial distribution for an input value that is not in its domain."
   ]
  },
  {
   "cell_type": "code",
   "execution_count": 38,
   "metadata": {},
   "outputs": [
    {
     "name": "stdout",
     "output_type": "stream",
     "text": [
      "0.0\n",
      "0.0\n",
      "0.0\n",
      "0.0\n"
     ]
    }
   ],
   "source": [
    "println(pdf.(binom,2.5))\n",
    "println(pdf.(binom,5.8))\n",
    "println(pdf.(binom,-1))\n",
    "println(pdf.(binom,11))"
   ]
  },
  {
   "cell_type": "markdown",
   "metadata": {},
   "source": [
    "In contrast, the normal distribution is a **continuous** distribution. "
   ]
  },
  {
   "cell_type": "code",
   "execution_count": 39,
   "metadata": {},
   "outputs": [
    {
     "name": "stdout",
     "output_type": "stream",
     "text": [
      "search: \u001b[0m\u001b[1mN\u001b[22m\u001b[0m\u001b[1mo\u001b[22m\u001b[0m\u001b[1mr\u001b[22m\u001b[0m\u001b[1mm\u001b[22m\u001b[0m\u001b[1ma\u001b[22m\u001b[0m\u001b[1ml\u001b[22m \u001b[0m\u001b[1mN\u001b[22m\u001b[0m\u001b[1mo\u001b[22m\u001b[0m\u001b[1mr\u001b[22m\u001b[0m\u001b[1mm\u001b[22m\u001b[0m\u001b[1ma\u001b[22m\u001b[0m\u001b[1ml\u001b[22mCanon \u001b[0m\u001b[1mn\u001b[22m\u001b[0m\u001b[1mo\u001b[22m\u001b[0m\u001b[1mr\u001b[22m\u001b[0m\u001b[1mm\u001b[22m\u001b[0m\u001b[1ma\u001b[22m\u001b[0m\u001b[1ml\u001b[22mize_hue \u001b[0m\u001b[1mN\u001b[22m\u001b[0m\u001b[1mo\u001b[22m\u001b[0m\u001b[1mr\u001b[22m\u001b[0m\u001b[1mm\u001b[22m\u001b[0m\u001b[1ma\u001b[22m\u001b[0m\u001b[1ml\u001b[22mInverseGaussian Mv\u001b[0m\u001b[1mN\u001b[22m\u001b[0m\u001b[1mo\u001b[22m\u001b[0m\u001b[1mr\u001b[22m\u001b[0m\u001b[1mm\u001b[22m\u001b[0m\u001b[1ma\u001b[22m\u001b[0m\u001b[1ml\u001b[22m\n",
      "\n"
     ]
    },
    {
     "data": {
      "text/latex": [
       "\\begin{verbatim}\n",
       "Normal(μ,σ)\n",
       "\\end{verbatim}\n",
       "The \\emph{Normal distribution} with mean \\texttt{μ} and standard deviation \\texttt{σ≥0} has probability density function\n",
       "\n",
       "$$f(x; \\mu, \\sigma) = \\frac{1}{\\sqrt{2 \\pi \\sigma^2}}\n",
       "\\exp \\left( - \\frac{(x - \\mu)^2}{2 \\sigma^2} \\right)$$\n",
       "Note that if \\texttt{σ == 0}, then the distribution is a point mass concentrated at \\texttt{μ}. Though not technically a continuous distribution, it is allowed so as to account for cases where \\texttt{σ} may have underflowed, and the functions are defined by taking the pointwise limit as $σ → 0$.\n",
       "\n",
       "\\begin{verbatim}\n",
       "Normal()          # standard Normal distribution with zero mean and unit variance\n",
       "Normal(mu)        # Normal distribution with mean mu and unit variance\n",
       "Normal(mu, sig)   # Normal distribution with mean mu and variance sig^2\n",
       "\n",
       "params(d)         # Get the parameters, i.e. (mu, sig)\n",
       "mean(d)           # Get the mean, i.e. mu\n",
       "std(d)            # Get the standard deviation, i.e. sig\n",
       "\\end{verbatim}\n",
       "External links\n",
       "\n",
       "\\begin{itemize}\n",
       "\\item \\href{http://en.wikipedia.org/wiki/Normal_distribution}{Normal distribution on Wikipedia}\n",
       "\n",
       "\\end{itemize}\n"
      ],
      "text/markdown": [
       "```\n",
       "Normal(μ,σ)\n",
       "```\n",
       "\n",
       "The *Normal distribution* with mean `μ` and standard deviation `σ≥0` has probability density function\n",
       "\n",
       "$$\n",
       "f(x; \\mu, \\sigma) = \\frac{1}{\\sqrt{2 \\pi \\sigma^2}}\n",
       "\\exp \\left( - \\frac{(x - \\mu)^2}{2 \\sigma^2} \\right)\n",
       "$$\n",
       "\n",
       "Note that if `σ == 0`, then the distribution is a point mass concentrated at `μ`. Though not technically a continuous distribution, it is allowed so as to account for cases where `σ` may have underflowed, and the functions are defined by taking the pointwise limit as $σ → 0$.\n",
       "\n",
       "```julia\n",
       "Normal()          # standard Normal distribution with zero mean and unit variance\n",
       "Normal(mu)        # Normal distribution with mean mu and unit variance\n",
       "Normal(mu, sig)   # Normal distribution with mean mu and variance sig^2\n",
       "\n",
       "params(d)         # Get the parameters, i.e. (mu, sig)\n",
       "mean(d)           # Get the mean, i.e. mu\n",
       "std(d)            # Get the standard deviation, i.e. sig\n",
       "```\n",
       "\n",
       "External links\n",
       "\n",
       "  * [Normal distribution on Wikipedia](http://en.wikipedia.org/wiki/Normal_distribution)\n"
      ],
      "text/plain": [
       "\u001b[36m  Normal(μ,σ)\u001b[39m\n",
       "\n",
       "  The \u001b[4mNormal distribution\u001b[24m with mean \u001b[36mμ\u001b[39m and standard deviation \u001b[36mσ≥0\u001b[39m has\n",
       "  probability density function\n",
       "\n",
       "\u001b[35mf(x; \\mu, \\sigma) = \\frac{1}{\\sqrt{2 \\pi \\sigma^2}}\u001b[39m\n",
       "\u001b[35m\\exp \\left( - \\frac{(x - \\mu)^2}{2 \\sigma^2} \\right)\u001b[39m\n",
       "\n",
       "  Note that if \u001b[36mσ == 0\u001b[39m, then the distribution is a point mass concentrated at\n",
       "  \u001b[36mμ\u001b[39m. Though not technically a continuous distribution, it is allowed so as to\n",
       "  account for cases where \u001b[36mσ\u001b[39m may have underflowed, and the functions are\n",
       "  defined by taking the pointwise limit as \u001b[35mσ → 0\u001b[39m.\n",
       "\n",
       "\u001b[36m  Normal()          # standard Normal distribution with zero mean and unit variance\u001b[39m\n",
       "\u001b[36m  Normal(mu)        # Normal distribution with mean mu and unit variance\u001b[39m\n",
       "\u001b[36m  Normal(mu, sig)   # Normal distribution with mean mu and variance sig^2\u001b[39m\n",
       "\u001b[36m  \u001b[39m\n",
       "\u001b[36m  params(d)         # Get the parameters, i.e. (mu, sig)\u001b[39m\n",
       "\u001b[36m  mean(d)           # Get the mean, i.e. mu\u001b[39m\n",
       "\u001b[36m  std(d)            # Get the standard deviation, i.e. sig\u001b[39m\n",
       "\n",
       "  External links\n",
       "\n",
       "    •    Normal distribution on Wikipedia\n",
       "        (http://en.wikipedia.org/wiki/Normal_distribution)"
      ]
     },
     "execution_count": 39,
     "metadata": {},
     "output_type": "execute_result"
    }
   ],
   "source": [
    "?Normal"
   ]
  },
  {
   "cell_type": "markdown",
   "metadata": {},
   "source": [
    "Let's create a normal random variable. "
   ]
  },
  {
   "cell_type": "code",
   "execution_count": 40,
   "metadata": {},
   "outputs": [
    {
     "data": {
      "text/plain": [
       "Normal{Float64}(μ=5.0, σ=2.75)"
      ]
     },
     "execution_count": 40,
     "metadata": {},
     "output_type": "execute_result"
    }
   ],
   "source": [
    "μ = 5.\n",
    "σ = 2.75\n",
    "norm = Normal(μ,σ)"
   ]
  },
  {
   "cell_type": "markdown",
   "metadata": {},
   "source": [
    "We can compute the mean and standard deviation for this as:"
   ]
  },
  {
   "cell_type": "code",
   "execution_count": 42,
   "metadata": {},
   "outputs": [
    {
     "name": "stdout",
     "output_type": "stream",
     "text": [
      "5.0\n",
      "2.75\n"
     ]
    }
   ],
   "source": [
    "println(mean(norm))\n",
    "println(std(norm))"
   ]
  },
  {
   "cell_type": "markdown",
   "metadata": {},
   "source": [
    "Here is a histogram of samples from this distribution. "
   ]
  },
  {
   "cell_type": "code",
   "execution_count": 43,
   "metadata": {},
   "outputs": [
    {
     "data": {
      "image/png": "[encoded data removed]"
     },
     "execution_count": 43,
     "metadata": {},
     "output_type": "execute_result"
    }
   ],
   "source": [
    "samps = rand(norm,10000);\n",
    "histogram(samps,legend=false)"
   ]
  },
  {
   "cell_type": "markdown",
   "metadata": {},
   "source": [
    "Now let's plot the pdf and cdf for this distribution. "
   ]
  },
  {
   "cell_type": "code",
   "execution_count": 48,
   "metadata": {},
   "outputs": [
    {
     "data": {
      "image/png": "[encoded data removed]"
     },
     "execution_count": 48,
     "metadata": {},
     "output_type": "execute_result"
    }
   ],
   "source": [
    "x = -2.0:0.01:12.0;\n",
    "y = pdf.(norm,x);\n",
    "plot(x,y,ms=6, msw=0, lw=2, label=\"normal pdf\", xlabel=\"x\", ylabel=\"Density\")"
   ]
  },
  {
   "cell_type": "code",
   "execution_count": 49,
   "metadata": {},
   "outputs": [
    {
     "data": {
      "image/png": "[encoded data removed]"
     },
     "execution_count": 49,
     "metadata": {},
     "output_type": "execute_result"
    }
   ],
   "source": [
    "x = -2.0:0.01:12.0;\n",
    "y = cdf.(norm,x);\n",
    "plot(x,y,ms=6, msw=0, lw=2, label=\"normal cdf\", xlabel=\"x\", ylabel=\"Probability\")"
   ]
  },
  {
   "cell_type": "code",
   "execution_count": null,
   "metadata": {},
   "outputs": [],
   "source": []
  }
 ],
 "metadata": {
  "kernelspec": {
   "display_name": "Julia 1.4.2",
   "language": "julia",
   "name": "julia-1.4"
  },
  "language_info": {
   "file_extension": ".jl",
   "mimetype": "application/julia",
   "name": "julia",
   "version": "1.4.2"
  }
 },
 "nbformat": 4,
 "nbformat_minor": 4
}
