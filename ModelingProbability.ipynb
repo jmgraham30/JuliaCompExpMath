{
 "cells": [
  {
   "cell_type": "markdown",
   "metadata": {},
   "source": [
    "# Modeling Probability and Randomness in Julia"
   ]
  },
  {
   "cell_type": "markdown",
   "metadata": {},
   "source": [
    "The two most important packages for modeling probability and randomness in Julia are [Random.jl](https://docs.julialang.org/en/v1/stdlib/Random/) and [Distributions.jl](https://juliastats.org/Distributions.jl/stable/). Excellent references for the material presented in this notebook are [The Distributions.jl paper](https://arxiv.org/pdf/1907.08611.pdf) and [Statistics with Julia](https://people.smp.uq.edu.au/YoniNazarathy/julia-stats/StatisticsWithJulia.pdf). "
   ]
  },
  {
   "cell_type": "code",
   "execution_count": 33,
   "metadata": {},
   "outputs": [],
   "source": [
    "using Statistics, StatsBase, Random, Distributions, Plots; pyplot();"
   ]
  },
  {
   "cell_type": "markdown",
   "metadata": {},
   "source": [
    "Recall that a random variable $X$ quantifies outcomes or events from a random experiment, that is, a procedure with well-deinfed outcomes that can not be precisely determined *a priori*. The principal characteristic of a random variable is its probability distribution, although numerical summaries of random variables such as the expected value (mean) and variance play a major role in understanding randomness. The distribution of a random variable is typically described by way of a cumulative distribution function (cdf) or a probability density function (pdf) in the continuous case or probability mass function (pmf) is the discrete case.    "
   ]
  },
  {
   "cell_type": "markdown",
   "metadata": {},
   "source": [
    "In computational and experimental mathematics one often wants to simulate randomness by drawing samples for a random variable with some particular properties. This is made possible by Random.jl (for normal and uniform distributions) and Distributions.jl (for a wide class of probability distributions.) We will illustrate these now.  "
   ]
  },
  {
   "cell_type": "code",
   "execution_count": 3,
   "metadata": {},
   "outputs": [
    {
     "data": {
      "text/plain": [
       "10-element Array{Float64,1}:\n",
       "  0.03709574834941717\n",
       " -1.244420465592877\n",
       "  1.6741218117107814\n",
       "  0.10468747932578294\n",
       " -0.12033899618233708\n",
       " -0.6319593402121764\n",
       " -0.03833057899402476\n",
       "  0.7587926482454252\n",
       " -1.8858438690863302\n",
       "  1.3763464497347133"
      ]
     },
     "execution_count": 3,
     "metadata": {},
     "output_type": "execute_result"
    }
   ],
   "source": [
    "# draw a sample of size 10 from a standard normal distribution\n",
    "randn(10)"
   ]
  },
  {
   "cell_type": "code",
   "execution_count": 7,
   "metadata": {},
   "outputs": [
    {
     "data": {
      "image/png": "[encoded data removed]"
     },
     "execution_count": 7,
     "metadata": {},
     "output_type": "execute_result"
    }
   ],
   "source": [
    "# plot a histogram of samples from a standard normal distribution\n",
    "histogram(randn(100),legend=false)"
   ]
  },
  {
   "cell_type": "markdown",
   "metadata": {},
   "source": [
    "The standard normal random variable has mean 0 and standard deviation 1. To simulate random samples from a normal distribution with mean $\\mu$ and standard deviation $\\sigma$ we may simply do as follows:"
   ]
  },
  {
   "cell_type": "code",
   "execution_count": 10,
   "metadata": {},
   "outputs": [
    {
     "data": {
      "text/plain": [
       "10-element Array{Float64,1}:\n",
       " 5.903888685921838\n",
       " 4.862969297973976\n",
       " 3.87572720733442\n",
       " 0.8990220168965113\n",
       " 4.316861130721829\n",
       " 2.842253351669798\n",
       " 1.6955352934021173\n",
       " 9.15509084478808\n",
       " 3.9129295644857693\n",
       " 7.501537341938559"
      ]
     },
     "execution_count": 10,
     "metadata": {},
     "output_type": "execute_result"
    }
   ],
   "source": [
    "μ = 5.\n",
    "σ = 2.75\n",
    "X = σ*randn(10) .+ μ # the .+ is necessary for elementwise operations"
   ]
  },
  {
   "cell_type": "code",
   "execution_count": 11,
   "metadata": {},
   "outputs": [
    {
     "name": "stdout",
     "output_type": "stream",
     "text": [
      "4.49658147351329\n",
      "2.5194736490769065\n"
     ]
    }
   ],
   "source": [
    "println(mean(X))\n",
    "println(std(X))"
   ]
  },
  {
   "cell_type": "code",
   "execution_count": 12,
   "metadata": {},
   "outputs": [
    {
     "data": {
      "text/plain": [
       "10-element Array{Float64,1}:\n",
       " 0.8224361420470194\n",
       " 0.6486226356609635\n",
       " 0.7962697617529186\n",
       " 0.8684109365344443\n",
       " 0.5994024466021837\n",
       " 0.18255146225315055\n",
       " 0.7118133364631605\n",
       " 0.6161965839418286\n",
       " 0.635691256781304\n",
       " 0.8077629404105335"
      ]
     },
     "execution_count": 12,
     "metadata": {},
     "output_type": "execute_result"
    }
   ],
   "source": [
    "# draw a sample of size 10 from a uniform distribution on [0,1]\n",
    "rand(10)"
   ]
  },
  {
   "cell_type": "code",
   "execution_count": 13,
   "metadata": {},
   "outputs": [
    {
     "data": {
      "image/png": "[encoded data removed]"
     },
     "execution_count": 13,
     "metadata": {},
     "output_type": "execute_result"
    }
   ],
   "source": [
    "# plot a histogram of samples from a standard normal distribution\n",
    "histogram(rand(100),legend=false)"
   ]
  },
  {
   "cell_type": "markdown",
   "metadata": {},
   "source": [
    "To simulate random samples from a uniform distribution over an arbitrary interval $[a,b]$ simply do:"
   ]
  },
  {
   "cell_type": "code",
   "execution_count": 14,
   "metadata": {},
   "outputs": [
    {
     "data": {
      "text/plain": [
       "10-element Array{Float64,1}:\n",
       " 6.790777245772407\n",
       " 5.671148222407858\n",
       " 3.4027576811616154\n",
       " 7.294180324087124\n",
       " 4.4146676357713375\n",
       " 4.376093065679042\n",
       " 4.943126950585668\n",
       " 7.363652059011777\n",
       " 4.459167760596052\n",
       " 3.339420261826823"
      ]
     },
     "execution_count": 14,
     "metadata": {},
     "output_type": "execute_result"
    }
   ],
   "source": [
    "a = 3;\n",
    "b = 8;\n",
    "X = (b-a)*rand(10) .+ a"
   ]
  },
  {
   "cell_type": "markdown",
   "metadata": {},
   "source": [
    "We can use the sample function to draw a single sample from a specific set."
   ]
  },
  {
   "cell_type": "code",
   "execution_count": 17,
   "metadata": {},
   "outputs": [
    {
     "name": "stdout",
     "output_type": "stream",
     "text": [
      "search: \u001b[0m\u001b[1ms\u001b[22m\u001b[0m\u001b[1ma\u001b[22m\u001b[0m\u001b[1mm\u001b[22m\u001b[0m\u001b[1mp\u001b[22m\u001b[0m\u001b[1ml\u001b[22m\u001b[0m\u001b[1me\u001b[22m \u001b[0m\u001b[1ms\u001b[22m\u001b[0m\u001b[1ma\u001b[22m\u001b[0m\u001b[1mm\u001b[22m\u001b[0m\u001b[1mp\u001b[22m\u001b[0m\u001b[1ml\u001b[22m\u001b[0m\u001b[1me\u001b[22mr \u001b[0m\u001b[1ms\u001b[22m\u001b[0m\u001b[1ma\u001b[22m\u001b[0m\u001b[1mm\u001b[22m\u001b[0m\u001b[1mp\u001b[22m\u001b[0m\u001b[1ml\u001b[22m\u001b[0m\u001b[1me\u001b[22m! \u001b[0m\u001b[1mS\u001b[22m\u001b[0m\u001b[1ma\u001b[22m\u001b[0m\u001b[1mm\u001b[22m\u001b[0m\u001b[1mp\u001b[22m\u001b[0m\u001b[1ml\u001b[22m\u001b[0m\u001b[1me\u001b[22mable w\u001b[0m\u001b[1ms\u001b[22m\u001b[0m\u001b[1ma\u001b[22m\u001b[0m\u001b[1mm\u001b[22m\u001b[0m\u001b[1mp\u001b[22m\u001b[0m\u001b[1ml\u001b[22m\u001b[0m\u001b[1me\u001b[22m w\u001b[0m\u001b[1ms\u001b[22m\u001b[0m\u001b[1ma\u001b[22m\u001b[0m\u001b[1mm\u001b[22m\u001b[0m\u001b[1mp\u001b[22m\u001b[0m\u001b[1ml\u001b[22m\u001b[0m\u001b[1me\u001b[22m! n\u001b[0m\u001b[1ms\u001b[22m\u001b[0m\u001b[1ma\u001b[22m\u001b[0m\u001b[1mm\u001b[22m\u001b[0m\u001b[1mp\u001b[22m\u001b[0m\u001b[1ml\u001b[22m\u001b[0m\u001b[1me\u001b[22ms\n",
      "\n"
     ]
    },
    {
     "data": {
      "text/latex": [
       "\\begin{verbatim}\n",
       "sample([rng], a, [wv::AbstractWeights])\n",
       "\\end{verbatim}\n",
       "Select a single random element of \\texttt{a}. Sampling probabilities are proportional to the weights given in \\texttt{wv}, if provided.\n",
       "\n",
       "Optionally specify a random number generator \\texttt{rng} as the first argument (defaults to \\texttt{Random.GLOBAL\\_RNG}).\n",
       "\n",
       "\\rule{\\textwidth}{1pt}\n",
       "\\begin{verbatim}\n",
       "sample([rng], a, [wv::AbstractWeights], n::Integer; replace=true, ordered=false)\n",
       "\\end{verbatim}\n",
       "Select a random, optionally weighted sample of size \\texttt{n} from an array \\texttt{a} using a polyalgorithm. Sampling probabilities are proportional to the weights given in \\texttt{wv}, if provided. \\texttt{replace} dictates whether sampling is performed with replacement and \\texttt{order} dictates whether an ordered sample, also called a sequential sample, should be taken.\n",
       "\n",
       "Optionally specify a random number generator \\texttt{rng} as the first argument (defaults to \\texttt{Random.GLOBAL\\_RNG}).\n",
       "\n",
       "\\rule{\\textwidth}{1pt}\n",
       "\\begin{verbatim}\n",
       "sample([rng], a, [wv::AbstractWeights], dims::Dims; replace=true, ordered=false)\n",
       "\\end{verbatim}\n",
       "Select a random, optionally weighted sample from an array \\texttt{a} specifying the dimensions \\texttt{dims} of the output array. Sampling probabilities are proportional to the weights given in \\texttt{wv}, if provided. \\texttt{replace} dictates whether sampling is performed with replacement and \\texttt{order} dictates whether an ordered sample, also called a sequential sample, should be taken.\n",
       "\n",
       "Optionally specify a random number generator \\texttt{rng} as the first argument (defaults to \\texttt{Random.GLOBAL\\_RNG}).\n",
       "\n",
       "\\rule{\\textwidth}{1pt}\n",
       "\\begin{verbatim}\n",
       "sample([rng], wv::AbstractWeights)\n",
       "\\end{verbatim}\n",
       "Select a single random integer in \\texttt{1:length(wv)} with probabilities proportional to the weights given in \\texttt{wv}.\n",
       "\n",
       "Optionally specify a random number generator \\texttt{rng} as the first argument (defaults to \\texttt{Random.GLOBAL\\_RNG}).\n",
       "\n"
      ],
      "text/markdown": [
       "```\n",
       "sample([rng], a, [wv::AbstractWeights])\n",
       "```\n",
       "\n",
       "Select a single random element of `a`. Sampling probabilities are proportional to the weights given in `wv`, if provided.\n",
       "\n",
       "Optionally specify a random number generator `rng` as the first argument (defaults to `Random.GLOBAL_RNG`).\n",
       "\n",
       "---\n",
       "\n",
       "```\n",
       "sample([rng], a, [wv::AbstractWeights], n::Integer; replace=true, ordered=false)\n",
       "```\n",
       "\n",
       "Select a random, optionally weighted sample of size `n` from an array `a` using a polyalgorithm. Sampling probabilities are proportional to the weights given in `wv`, if provided. `replace` dictates whether sampling is performed with replacement and `order` dictates whether an ordered sample, also called a sequential sample, should be taken.\n",
       "\n",
       "Optionally specify a random number generator `rng` as the first argument (defaults to `Random.GLOBAL_RNG`).\n",
       "\n",
       "---\n",
       "\n",
       "```\n",
       "sample([rng], a, [wv::AbstractWeights], dims::Dims; replace=true, ordered=false)\n",
       "```\n",
       "\n",
       "Select a random, optionally weighted sample from an array `a` specifying the dimensions `dims` of the output array. Sampling probabilities are proportional to the weights given in `wv`, if provided. `replace` dictates whether sampling is performed with replacement and `order` dictates whether an ordered sample, also called a sequential sample, should be taken.\n",
       "\n",
       "Optionally specify a random number generator `rng` as the first argument (defaults to `Random.GLOBAL_RNG`).\n",
       "\n",
       "---\n",
       "\n",
       "```\n",
       "sample([rng], wv::AbstractWeights)\n",
       "```\n",
       "\n",
       "Select a single random integer in `1:length(wv)` with probabilities proportional to the weights given in `wv`.\n",
       "\n",
       "Optionally specify a random number generator `rng` as the first argument (defaults to `Random.GLOBAL_RNG`).\n"
      ],
      "text/plain": [
       "\u001b[36m  sample([rng], a, [wv::AbstractWeights])\u001b[39m\n",
       "\n",
       "  Select a single random element of \u001b[36ma\u001b[39m. Sampling probabilities are proportional\n",
       "  to the weights given in \u001b[36mwv\u001b[39m, if provided.\n",
       "\n",
       "  Optionally specify a random number generator \u001b[36mrng\u001b[39m as the first argument\n",
       "  (defaults to \u001b[36mRandom.GLOBAL_RNG\u001b[39m).\n",
       "\n",
       "  ────────────────────────────────────────────────────────────────────────────\n",
       "\n",
       "\u001b[36m  sample([rng], a, [wv::AbstractWeights], n::Integer; replace=true, ordered=false)\u001b[39m\n",
       "\n",
       "  Select a random, optionally weighted sample of size \u001b[36mn\u001b[39m from an array \u001b[36ma\u001b[39m using\n",
       "  a polyalgorithm. Sampling probabilities are proportional to the weights\n",
       "  given in \u001b[36mwv\u001b[39m, if provided. \u001b[36mreplace\u001b[39m dictates whether sampling is performed\n",
       "  with replacement and \u001b[36morder\u001b[39m dictates whether an ordered sample, also called a\n",
       "  sequential sample, should be taken.\n",
       "\n",
       "  Optionally specify a random number generator \u001b[36mrng\u001b[39m as the first argument\n",
       "  (defaults to \u001b[36mRandom.GLOBAL_RNG\u001b[39m).\n",
       "\n",
       "  ────────────────────────────────────────────────────────────────────────────\n",
       "\n",
       "\u001b[36m  sample([rng], a, [wv::AbstractWeights], dims::Dims; replace=true, ordered=false)\u001b[39m\n",
       "\n",
       "  Select a random, optionally weighted sample from an array \u001b[36ma\u001b[39m specifying the\n",
       "  dimensions \u001b[36mdims\u001b[39m of the output array. Sampling probabilities are proportional\n",
       "  to the weights given in \u001b[36mwv\u001b[39m, if provided. \u001b[36mreplace\u001b[39m dictates whether sampling\n",
       "  is performed with replacement and \u001b[36morder\u001b[39m dictates whether an ordered sample,\n",
       "  also called a sequential sample, should be taken.\n",
       "\n",
       "  Optionally specify a random number generator \u001b[36mrng\u001b[39m as the first argument\n",
       "  (defaults to \u001b[36mRandom.GLOBAL_RNG\u001b[39m).\n",
       "\n",
       "  ────────────────────────────────────────────────────────────────────────────\n",
       "\n",
       "\u001b[36m  sample([rng], wv::AbstractWeights)\u001b[39m\n",
       "\n",
       "  Select a single random integer in \u001b[36m1:length(wv)\u001b[39m with probabilities\n",
       "  proportional to the weights given in \u001b[36mwv\u001b[39m.\n",
       "\n",
       "  Optionally specify a random number generator \u001b[36mrng\u001b[39m as the first argument\n",
       "  (defaults to \u001b[36mRandom.GLOBAL_RNG\u001b[39m)."
      ]
     },
     "execution_count": 17,
     "metadata": {},
     "output_type": "execute_result"
    }
   ],
   "source": [
    "?sample"
   ]
  },
  {
   "cell_type": "code",
   "execution_count": 19,
   "metadata": {},
   "outputs": [
    {
     "data": {
      "text/plain": [
       "4"
      ]
     },
     "execution_count": 19,
     "metadata": {},
     "output_type": "execute_result"
    }
   ],
   "source": [
    "A = [1,2,3,4,5,6];\n",
    "sample(A)"
   ]
  },
  {
   "cell_type": "markdown",
   "metadata": {},
   "source": [
    "Or samples of a fixed size from a specific set."
   ]
  },
  {
   "cell_type": "code",
   "execution_count": 24,
   "metadata": {},
   "outputs": [
    {
     "data": {
      "text/plain": [
       "3-element Array{Int64,1}:\n",
       " 1\n",
       " 5\n",
       " 2"
      ]
     },
     "execution_count": 24,
     "metadata": {},
     "output_type": "execute_result"
    }
   ],
   "source": [
    "sample(A,3,replace=false)"
   ]
  },
  {
   "cell_type": "code",
   "execution_count": 26,
   "metadata": {},
   "outputs": [
    {
     "data": {
      "text/plain": [
       "10-element Array{Int64,1}:\n",
       " 3\n",
       " 5\n",
       " 1\n",
       " 6\n",
       " 5\n",
       " 3\n",
       " 2\n",
       " 3\n",
       " 6\n",
       " 3"
      ]
     },
     "execution_count": 26,
     "metadata": {},
     "output_type": "execute_result"
    }
   ],
   "source": [
    "sample(A,10,replace=true)"
   ]
  },
  {
   "cell_type": "markdown",
   "metadata": {},
   "source": [
    "We can use this, for example, to simulate rolling a six-sided die three times and adding up the result. "
   ]
  },
  {
   "cell_type": "code",
   "execution_count": 27,
   "metadata": {},
   "outputs": [
    {
     "name": "stdout",
     "output_type": "stream",
     "text": [
      "[4, 1, 4]\n",
      "9\n"
     ]
    }
   ],
   "source": [
    "# illustration of a single round\n",
    "tosses = sample(A,3,replace=true)\n",
    "sum_vals = sum(tosses)\n",
    "println(tosses)\n",
    "println(sum_vals)"
   ]
  },
  {
   "cell_type": "code",
   "execution_count": 28,
   "metadata": {},
   "outputs": [
    {
     "data": {
      "text/plain": [
       "100000-element Array{Int64,1}:\n",
       " 13\n",
       "  7\n",
       " 10\n",
       "  7\n",
       "  8\n",
       "  9\n",
       " 12\n",
       " 10\n",
       "  6\n",
       " 10\n",
       " 10\n",
       " 15\n",
       " 15\n",
       "  ⋮\n",
       " 17\n",
       " 14\n",
       " 15\n",
       " 10\n",
       " 10\n",
       " 10\n",
       " 12\n",
       " 11\n",
       " 12\n",
       " 15\n",
       " 13\n",
       "  9"
      ]
     },
     "execution_count": 28,
     "metadata": {},
     "output_type": "execute_result"
    }
   ],
   "source": [
    "# the results of many rounds\n",
    "plays = [sum(sample(A,3,replace=true)) for _ in 1:100000]"
   ]
  },
  {
   "cell_type": "code",
   "execution_count": 35,
   "metadata": {},
   "outputs": [
    {
     "data": {
      "text/plain": [
       "16-element Array{Int64,1}:\n",
       "   453\n",
       "  1417\n",
       "  2668\n",
       "  4651\n",
       "  6930\n",
       "  9720\n",
       " 11562\n",
       " 12594\n",
       " 12578\n",
       " 11562\n",
       "  9646\n",
       "  7003\n",
       "  4576\n",
       "  2804\n",
       "  1389\n",
       "   447"
      ]
     },
     "execution_count": 35,
     "metadata": {},
     "output_type": "execute_result"
    }
   ],
   "source": [
    "counts(plays)"
   ]
  },
  {
   "cell_type": "code",
   "execution_count": 37,
   "metadata": {},
   "outputs": [
    {
     "data": {
      "image/png": "[encoded data removed]"
     },
     "execution_count": 37,
     "metadata": {},
     "output_type": "execute_result"
    }
   ],
   "source": [
    "# plot of the results\n",
    "vals = 3:18;\n",
    "bar(vals,counts(plays),legend=false)"
   ]
  },
  {
   "cell_type": "code",
   "execution_count": null,
   "metadata": {},
   "outputs": [],
   "source": []
  },
  {
   "cell_type": "code",
   "execution_count": null,
   "metadata": {},
   "outputs": [],
   "source": []
  }
 ],
 "metadata": {
  "kernelspec": {
   "display_name": "Julia 1.4.2",
   "language": "julia",
   "name": "julia-1.4"
  },
  "language_info": {
   "file_extension": ".jl",
   "mimetype": "application/julia",
   "name": "julia",
   "version": "1.4.2"
  }
 },
 "nbformat": 4,
 "nbformat_minor": 4
}
